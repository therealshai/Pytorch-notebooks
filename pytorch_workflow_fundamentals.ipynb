{
  "nbformat": 4,
  "nbformat_minor": 0,
  "metadata": {
    "colab": {
      "provenance": [],
      "authorship_tag": "ABX9TyOeVoUn42/jDYf68ulh/Fe1"
    },
    "kernelspec": {
      "name": "python3",
      "display_name": "Python 3"
    },
    "language_info": {
      "name": "python"
    }
  },
  "cells": [
    {
      "cell_type": "markdown",
      "source": [
        "### Pytorch Workflow\n",
        "\n",
        "pytorch end-to-end workflow\n",
        "\n",
        "1. get data ready -> turn it into tensors\n",
        "2. build or pick a model\n",
        "  - pick a loss function and optimizer\n",
        "  - build a training loop (iterate step 2)\n",
        "3. fir the model to the data -> make a perdiction ( *inference* )\n",
        "\n",
        "4. Evaluate the model\n",
        "5. Improve through expermentation\n",
        "6. save and reload the trained model"
      ],
      "metadata": {
        "id": "HLpDEnIZi2B7"
      }
    },
    {
      "cell_type": "code",
      "execution_count": 39,
      "metadata": {
        "id": "d4W6K53Fho_7"
      },
      "outputs": [],
      "source": [
        "import torch\n",
        "from torch import nn # nn contrain all of pytorch building blocks for neural networks"
      ]
    },
    {
      "cell_type": "code",
      "source": [
        "import matplotlib.pyplot as plt\n",
        "torch.__version__"
      ],
      "metadata": {
        "colab": {
          "base_uri": "https://localhost:8080/",
          "height": 35
        },
        "id": "ojVr8-S-kROH",
        "outputId": "0d7464ec-f78a-4796-b47a-394d9ec22532"
      },
      "execution_count": 40,
      "outputs": [
        {
          "output_type": "execute_result",
          "data": {
            "text/plain": [
              "'2.6.0+cu124'"
            ],
            "application/vnd.google.colaboratory.intrinsic+json": {
              "type": "string"
            }
          },
          "metadata": {},
          "execution_count": 40
        }
      ]
    },
    {
      "cell_type": "markdown",
      "source": [
        "## 1. Data (preparing and loading)\n",
        "- excel spreadsheet\n",
        "- images\n",
        "- audio\n",
        "- DNA\n",
        "- text, literally anything!\n",
        "\n",
        "`torchvision.transforms` : computer vision\n",
        "\n",
        "`torch.utils.data.Dataset` :for complex data loading\n",
        "\n",
        "`torch.utils.data.DataLoader`"
      ],
      "metadata": {
        "id": "Fy0ZxXDckf2R"
      }
    },
    {
      "cell_type": "code",
      "source": [
        "  # Linear regression model\n",
        "  #create independent parameter\n",
        "weight =0.7\n",
        "bias = 0.3\n",
        "\n",
        "#create data\n",
        "start =0\n",
        "end=1\n",
        "step=0.02\n",
        "X= torch.arange(start,end,step).unsqueeze(dim=1)\n",
        "y= weight*X + bias"
      ],
      "metadata": {
        "id": "8Wur4WWJkW3P"
      },
      "execution_count": 41,
      "outputs": []
    },
    {
      "cell_type": "code",
      "source": [
        "X[:10],y[:10]"
      ],
      "metadata": {
        "colab": {
          "base_uri": "https://localhost:8080/"
        },
        "id": "izAB7GvGl8E-",
        "outputId": "21e0b361-bfac-47c6-dfe5-d299369f9dc9"
      },
      "execution_count": 42,
      "outputs": [
        {
          "output_type": "execute_result",
          "data": {
            "text/plain": [
              "(tensor([[0.0000],\n",
              "         [0.0200],\n",
              "         [0.0400],\n",
              "         [0.0600],\n",
              "         [0.0800],\n",
              "         [0.1000],\n",
              "         [0.1200],\n",
              "         [0.1400],\n",
              "         [0.1600],\n",
              "         [0.1800]]),\n",
              " tensor([[0.3000],\n",
              "         [0.3140],\n",
              "         [0.3280],\n",
              "         [0.3420],\n",
              "         [0.3560],\n",
              "         [0.3700],\n",
              "         [0.3840],\n",
              "         [0.3980],\n",
              "         [0.4120],\n",
              "         [0.4260]]))"
            ]
          },
          "metadata": {},
          "execution_count": 42
        }
      ]
    },
    {
      "cell_type": "markdown",
      "source": [
        "### spliting the data into test and train\n",
        "\n",
        "- training -> validation -> test\n",
        "- example:\n",
        "(course) ->   (mock exam) ->  (final exam)\n",
        "- the goal is to create genrealization for the model"
      ],
      "metadata": {
        "id": "G5fhmWDdmklq"
      }
    },
    {
      "cell_type": "code",
      "source": [
        "len(X),len(y)"
      ],
      "metadata": {
        "colab": {
          "base_uri": "https://localhost:8080/"
        },
        "id": "H1bj1AHlnqk4",
        "outputId": "3c582697-0a5b-40dc-fac0-8b9bd7ad86a8"
      },
      "execution_count": 43,
      "outputs": [
        {
          "output_type": "execute_result",
          "data": {
            "text/plain": [
              "(50, 50)"
            ]
          },
          "metadata": {},
          "execution_count": 43
        }
      ]
    },
    {
      "cell_type": "code",
      "source": [
        "# spliting the data into test and train 80-20\n",
        "train_split= int(0.8* len(X))  #80% of 50 length= 40\n",
        "\n",
        "X_train,y_train= X[:train_split],y[:train_split]\n",
        "\n",
        "X_test,y_test= X[train_split:],y[train_split:]\n",
        "\n",
        "len(X_train),len(y_train),len(X_test),len(y_test)"
      ],
      "metadata": {
        "colab": {
          "base_uri": "https://localhost:8080/"
        },
        "id": "2_nPOlGJmGzJ",
        "outputId": "ebcfeb19-0ef1-428f-9147-2d14a94f45d0"
      },
      "execution_count": 44,
      "outputs": [
        {
          "output_type": "execute_result",
          "data": {
            "text/plain": [
              "(40, 40, 10, 10)"
            ]
          },
          "metadata": {},
          "execution_count": 44
        }
      ]
    },
    {
      "cell_type": "code",
      "source": [
        "def plot_predictions(train_data=X_train,\n",
        "                     train_labels =y_train,\n",
        "                     test_data= X_test,\n",
        "                     test_labels=y_test,\n",
        "                     predictions=None):\n",
        "  \"\"\"\n",
        "    plots training data, test data and compares predictions\n",
        "  \"\"\"\n",
        "  plt.figure(figsize=(10,7)) # decide the plot size\n",
        "\n",
        "  # train data\n",
        "  plt.scatter(train_data, train_labels, c=\"blue\",s=4,label=\"training data\")\n",
        "\n",
        "  #test data\n",
        "  plt.scatter(test_data,test_labels,c=\"red\",s=4,label=\"Testing data\")\n",
        "\n",
        "  #if there are no predictions\n",
        "  if predictions is not None:\n",
        "    plt.scatter(test_data,predictions,c=\"green\",s=4,label=\"Predictions\")\n",
        "  # show the legen - labels\n",
        "  plt.legend(prop={\"size\":14})\n"
      ],
      "metadata": {
        "id": "7jLjyE87n472"
      },
      "execution_count": 45,
      "outputs": []
    },
    {
      "cell_type": "code",
      "source": [
        "plot_predictions()"
      ],
      "metadata": {
        "colab": {
          "base_uri": "https://localhost:8080/",
          "height": 460
        },
        "id": "OgLea5wpoKAJ",
        "outputId": "8641bec9-8173-4d51-ac38-6042826a39bd"
      },
      "execution_count": 46,
      "outputs": [
        {
          "output_type": "display_data",
          "data": {
            "text/plain": [
              "<Figure size 1000x700 with 1 Axes>"
            ],
            "image/png": "[encoded data removed]"
          },
          "metadata": {}
        }
      ]
    },
    {
      "cell_type": "markdown",
      "source": [
        "## 2. Build model -Linear regression\n",
        " `y=mx+c`\n",
        "\n",
        "weight, bias are parameters here - `nn.parameters`\n",
        "\n",
        "-  `nn.Parameter`is a special type of tensor that is automatically registered as a parameter of a neural network module  also, it is a learnable parameter of your model that needs to be optimized during the training process.\n",
        "\n",
        "`-> torch.Tensor`: This is a type hint indicating that the method is expected to return a PyTorch tensor.\n",
        "\n",
        "`requires_grad=True` : gradient decent algorithm -iteratively calculating the gradient(slope)"
      ],
      "metadata": {
        "id": "2N8LluLbqJWI"
      }
    },
    {
      "cell_type": "code",
      "source": [
        "class LinearRegressionModel(nn.Module): # Base class for all NN modules\n",
        "  def __init__(self):\n",
        "    super().__init__()\n",
        "    #Initialize Model Parameters\n",
        "    self.weights= nn.Parameter(torch.rand(1,\n",
        "                                          requires_grad=True,\n",
        "                                          dtype=torch.float)) #weight\n",
        "    self.bias = nn.Parameter(torch.rand(1,\n",
        "                                        requires_grad=True,\n",
        "                                        dtype=torch.float))\n",
        "  def forward(self, x:torch.Tensor) -> torch.Tensor:\n",
        "    return self.weights * x +self.bias #linear regression\n",
        ""
      ],
      "metadata": {
        "id": "ho7shc08pokO"
      },
      "execution_count": 47,
      "outputs": []
    },
    {
      "cell_type": "markdown",
      "source": [
        "#### pytorch nn essentials\n",
        "1. `torch.nn`- contains all building blocks for computational graphs\n",
        "2. `torch.nn.Parameter`- what parameters are model learns\n",
        "3. `torch.nn.Module` -The base class for all NN modules, if we subclass it we can overwrite the `forward()` method\n",
        "4. `torch.optim` - optimizers in pytorch : gradient descent\n",
        "5. `def forward()` - all nn.Module subclasses are required to override this function"
      ],
      "metadata": {
        "id": "KpmGiOuGvaVO"
      }
    },
    {
      "cell_type": "code",
      "source": [
        "torch.manual_seed(42)\n",
        "#instance\n",
        "model_0= LinearRegressionModel()\n",
        "#see parameters\n",
        "list(model_0.parameters())"
      ],
      "metadata": {
        "id": "1f4a0FyjtPnm",
        "outputId": "c206a607-1eb3-455b-a5b4-d821ecdf1871",
        "colab": {
          "base_uri": "https://localhost:8080/"
        }
      },
      "execution_count": 48,
      "outputs": [
        {
          "output_type": "execute_result",
          "data": {
            "text/plain": [
              "[Parameter containing:\n",
              " tensor([0.8823], requires_grad=True),\n",
              " Parameter containing:\n",
              " tensor([0.9150], requires_grad=True)]"
            ]
          },
          "metadata": {},
          "execution_count": 48
        }
      ]
    },
    {
      "cell_type": "code",
      "source": [
        "#List named parameters\n",
        "model_0.state_dict()"
      ],
      "metadata": {
        "id": "zG1frGdbxlq3",
        "outputId": "eda9a9e9-2cf6-4cf0-aff1-bbec3fc7dbda",
        "colab": {
          "base_uri": "https://localhost:8080/"
        }
      },
      "execution_count": 49,
      "outputs": [
        {
          "output_type": "execute_result",
          "data": {
            "text/plain": [
              "OrderedDict([('weights', tensor([0.8823])), ('bias', tensor([0.9150]))])"
            ]
          },
          "metadata": {},
          "execution_count": 49
        }
      ]
    },
    {
      "cell_type": "code",
      "source": [
        "#make predictions with model\n",
        "with torch.inference_mode(): # with - context manager\n",
        "  y_preds= model_0(X_test)\n",
        "y_preds\n",
        "#torch.inference_mode() -> turns off gradient tracking\n",
        "# also can use torch.no_grad()"
      ],
      "metadata": {
        "id": "-8fMh5bsyWDz",
        "outputId": "36f07bb6-b2bb-40ee-bda9-18b6532c3d13",
        "colab": {
          "base_uri": "https://localhost:8080/"
        }
      },
      "execution_count": 54,
      "outputs": [
        {
          "output_type": "execute_result",
          "data": {
            "text/plain": [
              "tensor([[1.6208],\n",
              "        [1.6385],\n",
              "        [1.6561],\n",
              "        [1.6738],\n",
              "        [1.6914],\n",
              "        [1.7090],\n",
              "        [1.7267],\n",
              "        [1.7443],\n",
              "        [1.7620],\n",
              "        [1.7796]])"
            ]
          },
          "metadata": {},
          "execution_count": 54
        }
      ]
    },
    {
      "cell_type": "code",
      "source": [
        "y_test"
      ],
      "metadata": {
        "id": "4E-mTu3AzRCo",
        "outputId": "815be49c-f937-49bf-9a7e-ae13ce0bf016",
        "colab": {
          "base_uri": "https://localhost:8080/"
        }
      },
      "execution_count": 52,
      "outputs": [
        {
          "output_type": "execute_result",
          "data": {
            "text/plain": [
              "tensor([[0.8600],\n",
              "        [0.8740],\n",
              "        [0.8880],\n",
              "        [0.9020],\n",
              "        [0.9160],\n",
              "        [0.9300],\n",
              "        [0.9440],\n",
              "        [0.9580],\n",
              "        [0.9720],\n",
              "        [0.9860]])"
            ]
          },
          "metadata": {},
          "execution_count": 52
        }
      ]
    },
    {
      "cell_type": "code",
      "source": [
        "plot_predictions(predictions=y_preds)"
      ],
      "metadata": {
        "id": "4cdNtWRfzfnV",
        "outputId": "9690b6a9-5bc3-477d-c3cb-ce7eb7f8b2d6",
        "colab": {
          "base_uri": "https://localhost:8080/",
          "height": 460
        }
      },
      "execution_count": 53,
      "outputs": [
        {
          "output_type": "display_data",
          "data": {
            "text/plain": [
              "<Figure size 1000x700 with 1 Axes>"
            ],
            "image/png": "[encoded data removed]"
          },
          "metadata": {}
        }
      ]
    },
    {
      "cell_type": "markdown",
      "source": [
        "## 3. Training Model\n",
        "move from unknown param -> known parameters\n",
        "\n",
        "to measure this - we *loss function* / *cost function* / *criterion*\n",
        "\n",
        "Things we need to train:\n",
        " - *Loss fucntion*- A fucntion to measure how wrong the model's performance to the ideal output is - lower the better\n",
        " - *optimizer* - Takes into account the loss of a model and adjust the model's parameters to improve the loss function\n",
        "\n",
        "in pytorch we need:\n",
        "- A training loop\n",
        "- A testing loop\n",
        "\n",
        "\n",
        "\n"
      ],
      "metadata": {
        "id": "H2PSYwkZ1fFs"
      }
    },
    {
      "cell_type": "code",
      "source": [
        "#loss fucntion- for this problem nn.L1Loss( mean absolute error (MAE))- just the distance\n",
        "loss_fn =nn.L1Loss()\n",
        "\n",
        "#optimizer - torch.optim: optimization algorithms\n",
        "#SGD -Stochastic (random) gradient descent\n",
        "\n",
        "optimizer = torch.optim.SGD(params=model.parameter,lr=0.01)\n"
      ],
      "metadata": {
        "id": "hihNom730K2L"
      },
      "execution_count": null,
      "outputs": []
    }
  ]
}