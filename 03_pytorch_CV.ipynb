{
  "nbformat": 4,
  "nbformat_minor": 0,
  "metadata": {
    "colab": {
      "provenance": [],
      "authorship_tag": "ABX9TyOrpdmNuH9IZpU9ucZC2wRc"
    },
    "kernelspec": {
      "name": "python3",
      "display_name": "Python 3"
    },
    "language_info": {
      "name": "python"
    }
  },
  "cells": [
    {
      "cell_type": "markdown",
      "source": [
        "# PyTorch Computer Vision -art of teaching a computer to see."
      ],
      "metadata": {
        "id": "d-01wjXzgQKW"
      }
    },
    {
      "cell_type": "markdown",
      "source": [
        "Typical inputs and outputs of CV model:\n",
        "\n",
        "INPUT: images wih 3 channels : width, height and color channels(RGB)\n",
        "\n",
        "-> CONVERT IT INTO TENSORs\n",
        "\n",
        "-> goes into ML model (CNN)\n",
        "\n",
        "-> OUTPUT: predicted probabilities\n",
        "\n",
        "OUPUT: predcited class the image belongs to\n",
        "\n",
        "\n",
        "`shape= [batch_size, width, height,colour_channels]` -> **NHWC** => *colour channels last*\n",
        "\n",
        "`shape= [batch_size,colour_channels  width, height,]` -> **NCHW** => *colour chanels first*\n"
      ],
      "metadata": {
        "id": "-z7OjZQTZcWo"
      }
    },
    {
      "cell_type": "markdown",
      "source": [
        "# What is a Convolutional Neural Network (CNN)?\n",
        "\n",
        "+ A convolutional neural network is a specific kind of neural network with multiple layers. It processes data that has a grid-like arrangement then extracts important features.\n",
        "\n",
        "\n",
        "+ CNNs use convolutions to handle the math behind the scenes. A convolution is used instead of matrix multiplication in at least one layer of the CNN\n",
        "\n",
        "+ `Convolutions` :a *mathematical operation* performed on two functions that yields a function that is a combination of the two original functions.\n",
        "\n",
        "  The convolution operation follows the properties of multiplication:\n",
        "\n",
        "  1.   Commutative: `fg = gf`\n",
        "  2.  Associative: `(fg)h = f(gh)`\n",
        "  3. Distributive: `h(f+g) = hf + hg`\n"
      ],
      "metadata": {
        "id": "6gO6cZEHbkY4"
      }
    },
    {
      "cell_type": "markdown",
      "source": [],
      "metadata": {
        "id": "fTxCLnnfg9z4"
      }
    },
    {
      "cell_type": "markdown",
      "source": [
        "#Typical Architecture of a CNN\n",
        "\n",
        "Hyperparameters or layer type\n",
        "\n",
        "\n",
        "1.  **Input images**\n",
        "2.   **Input layer**  -> takes images and preprocess it `input_shape`\n",
        "3. **Convolution Layer** -> Extracts and learns the most important features from target images `torch.nn.ConvXd()`\n",
        "4. **hidden activation** ->Adds non-linearity to learned features `torch.nn.ReLU()`\n",
        "5.**Pooling layer** -> Reduces the dimensionality of learned image features Max:`torch.nn.MaxPool2d()` Avg: `torch.nn.AvgPool2d()`\n",
        "6. **Output/linear layer** -> `torch.nn.Linear(out_features=[no_of_classes])`\n",
        "7. **ouput activation** -> converts logits to predictions prob `torch.sigmoid()` or `torch.softmax()`\n",
        "\n",
        "\n",
        "\n",
        "---\n",
        "\n",
        "\n",
        "CV libraries:\n",
        "`torchvision`\n",
        "\n",
        "`torchvision.datasets`\n",
        "\n",
        "`torchvision.models` => Transfer learning\n",
        "\n",
        "`torchvision.transforms`\n",
        "\n",
        "`torch.utils.data.Dataset`\n",
        "\n",
        "`torch.utils.data.DataLoader`\n",
        "\n",
        "---\n",
        "\n",
        "\n",
        "\n",
        "\n"
      ],
      "metadata": {
        "id": "r-JtVfuTdsNq"
      }
    },
    {
      "cell_type": "code",
      "execution_count": 1,
      "metadata": {
        "id": "SuEfrOOZcPqr"
      },
      "outputs": [],
      "source": [
        "import torch\n",
        "from torch import nn"
      ]
    },
    {
      "cell_type": "code",
      "source": [
        "import torchvision\n",
        "from torchvision import transforms\n",
        "from torchvision.transforms import ToTensor\n",
        "from torchvision.datasets import FashionMNIST"
      ],
      "metadata": {
        "id": "6dMvhotkcZPu"
      },
      "execution_count": null,
      "outputs": []
    }
  ]
}