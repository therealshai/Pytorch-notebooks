{
 "cells": [
  {
   "cell_type": "code",
   "execution_count": null,
   "id": "f5f06ba1",
   "metadata": {},
   "outputs": [],
   "source": [
    "import torch"
   ]
  },
  {
   "cell_type": "code",
   "execution_count": null,
   "id": "3b2adf0b",
   "metadata": {},
   "outputs": [],
   "source": [
    "print(torch.__version__)"
   ]
  }
 ],
 "metadata": {
  "jupytext": {
   "cell_metadata_filter": "-all",
   "main_language": "python",
   "notebook_metadata_filter": "-all"
  }
 },
 "nbformat": 4,
 "nbformat_minor": 5
}
