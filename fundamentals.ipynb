{
  "cells": [
    {
      "cell_type": "code",
      "execution_count": 1,
      "id": "f5f06ba1",
      "metadata": {
        "id": "f5f06ba1"
      },
      "outputs": [],
      "source": [
        "import torch"
      ]
    },
    {
      "cell_type": "code",
      "execution_count": 2,
      "id": "3b2adf0b",
      "metadata": {
        "colab": {
          "base_uri": "https://localhost:8080/"
        },
        "id": "3b2adf0b",
        "outputId": "63739ee6-1dbc-472e-fe28-50233412e06e"
      },
      "outputs": [
        {
          "output_type": "stream",
          "name": "stdout",
          "text": [
            "2.6.0+cu124\n"
          ]
        }
      ],
      "source": [
        "print(torch.__version__)"
      ]
    },
    {
      "cell_type": "code",
      "source": [
        "### Introduction to - tensor -tenore: with shape [3, 224, 224] which would mean [colour_channels, height, width]"
      ],
      "metadata": {
        "id": "awOImlCabLdY"
      },
      "id": "awOImlCabLdY",
      "execution_count": 3,
      "outputs": []
    },
    {
      "cell_type": "code",
      "source": [
        "num_scalar=torch.tensor(5)\n",
        "num_scalar"
      ],
      "metadata": {
        "colab": {
          "base_uri": "https://localhost:8080/"
        },
        "id": "iB7PY4Z2bL3I",
        "outputId": "531a413e-be57-4352-e826-7096d51af542"
      },
      "id": "iB7PY4Z2bL3I",
      "execution_count": 4,
      "outputs": [
        {
          "output_type": "execute_result",
          "data": {
            "text/plain": [
              "tensor(5)"
            ]
          },
          "metadata": {},
          "execution_count": 4
        }
      ]
    },
    {
      "cell_type": "code",
      "source": [
        "num_scalar.ndim"
      ],
      "metadata": {
        "colab": {
          "base_uri": "https://localhost:8080/"
        },
        "id": "g9M7FOHLbL5X",
        "outputId": "59c47cc9-bcb5-4eb7-9211-afeb1b9d403f"
      },
      "id": "g9M7FOHLbL5X",
      "execution_count": 5,
      "outputs": [
        {
          "output_type": "execute_result",
          "data": {
            "text/plain": [
              "0"
            ]
          },
          "metadata": {},
          "execution_count": 5
        }
      ]
    },
    {
      "cell_type": "code",
      "source": [
        "num_scalar.item()  #gives it as a reg py interger"
      ],
      "metadata": {
        "colab": {
          "base_uri": "https://localhost:8080/"
        },
        "id": "UC9j93szbL83",
        "outputId": "1cd60a53-658b-4606-f4d0-e97899268c4a"
      },
      "id": "UC9j93szbL83",
      "execution_count": 6,
      "outputs": [
        {
          "output_type": "execute_result",
          "data": {
            "text/plain": [
              "5"
            ]
          },
          "metadata": {},
          "execution_count": 6
        }
      ]
    },
    {
      "cell_type": "code",
      "source": [
        "num_vector= torch.tensor([5,5])\n",
        "num_vector"
      ],
      "metadata": {
        "colab": {
          "base_uri": "https://localhost:8080/"
        },
        "id": "Q0aBJyxsc98y",
        "outputId": "94382784-6449-4bdc-8133-4b5bf2332636"
      },
      "id": "Q0aBJyxsc98y",
      "execution_count": 7,
      "outputs": [
        {
          "output_type": "execute_result",
          "data": {
            "text/plain": [
              "tensor([5, 5])"
            ]
          },
          "metadata": {},
          "execution_count": 7
        }
      ]
    },
    {
      "cell_type": "code",
      "source": [
        "num_vector.ndim  #see the number of sq brackets"
      ],
      "metadata": {
        "colab": {
          "base_uri": "https://localhost:8080/"
        },
        "id": "7g22VUUidE-w",
        "outputId": "5498c0e3-c767-471c-ced2-971a43791411"
      },
      "id": "7g22VUUidE-w",
      "execution_count": 8,
      "outputs": [
        {
          "output_type": "execute_result",
          "data": {
            "text/plain": [
              "1"
            ]
          },
          "metadata": {},
          "execution_count": 8
        }
      ]
    },
    {
      "cell_type": "code",
      "source": [
        "num_vector.shape  # 2 cols"
      ],
      "metadata": {
        "colab": {
          "base_uri": "https://localhost:8080/"
        },
        "id": "sU3UutqOdNCL",
        "outputId": "26719462-004d-4a09-b513-c83a4176010f"
      },
      "id": "sU3UutqOdNCL",
      "execution_count": 9,
      "outputs": [
        {
          "output_type": "execute_result",
          "data": {
            "text/plain": [
              "torch.Size([2])"
            ]
          },
          "metadata": {},
          "execution_count": 9
        }
      ]
    },
    {
      "cell_type": "code",
      "source": [
        "matrix=torch.tensor([[1,2],\n",
        "                     [3,4]])\n",
        "print(matrix,matrix.shape,matrix.ndim)  # index 0= [1,2] index 1 =[3,4]"
      ],
      "metadata": {
        "colab": {
          "base_uri": "https://localhost:8080/"
        },
        "id": "rcI9vmv4dleB",
        "outputId": "18a643c6-4a27-43b0-d1cb-351454ccd2b3"
      },
      "id": "rcI9vmv4dleB",
      "execution_count": 10,
      "outputs": [
        {
          "output_type": "stream",
          "name": "stdout",
          "text": [
            "tensor([[1, 2],\n",
            "        [3, 4]]) torch.Size([2, 2]) 2\n"
          ]
        }
      ]
    },
    {
      "cell_type": "code",
      "source": [
        "#tensor\n",
        "tensor=torch.tensor([[[1,2,3],\n",
        "                      [4,5,6],\n",
        "                      [7,8,9]]])  #3[[[]]]\n",
        "print(tensor,tensor.shape,tensor.ndim)"
      ],
      "metadata": {
        "colab": {
          "base_uri": "https://localhost:8080/"
        },
        "id": "c-Ewp4i4d0x7",
        "outputId": "5d9947e9-c80d-41dc-e453-d8207b1d8c69"
      },
      "id": "c-Ewp4i4d0x7",
      "execution_count": 11,
      "outputs": [
        {
          "output_type": "stream",
          "name": "stdout",
          "text": [
            "tensor([[[1, 2, 3],\n",
            "         [4, 5, 6],\n",
            "         [7, 8, 9]]]) torch.Size([1, 3, 3]) 3\n"
          ]
        }
      ]
    },
    {
      "cell_type": "markdown",
      "source": [
        "![image.png](data:image/png;base64,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)"
      ],
      "metadata": {
        "id": "InWkRGmegTJP"
      },
      "id": "InWkRGmegTJP"
    },
    {
      "cell_type": "code",
      "source": [
        "t2= torch.tensor([[[1,2],\n",
        "                   [3,4],\n",
        "                   [5,6],\n",
        "                   [7,8]]])  # dim 3(no of sq brackets) but shape(1,4,2)\n",
        "print(t2.shape)\n",
        "print(t2.ndim)"
      ],
      "metadata": {
        "colab": {
          "base_uri": "https://localhost:8080/"
        },
        "id": "lywyUbfBexDj",
        "outputId": "1f3d7063-deeb-4d43-da7d-e68a889e400e"
      },
      "id": "lywyUbfBexDj",
      "execution_count": 12,
      "outputs": [
        {
          "output_type": "stream",
          "name": "stdout",
          "text": [
            "torch.Size([1, 4, 2])\n",
            "3\n"
          ]
        }
      ]
    },
    {
      "cell_type": "markdown",
      "source": [
        "### Random Tensor\n",
        "\n",
        "```\n",
        "start with random tensor -> look at the data -> update the weights or the tensors and repeat\n",
        "```\n",
        "\n"
      ],
      "metadata": {
        "id": "FwwaRZqbhlSv"
      },
      "id": "FwwaRZqbhlSv"
    },
    {
      "cell_type": "code",
      "source": [
        "random_t = torch.rand(2,3,4)\n",
        "print(random_t)\n",
        "print(random_t.ndim , random_t.shape)"
      ],
      "metadata": {
        "colab": {
          "base_uri": "https://localhost:8080/"
        },
        "id": "gJruEzbygfPw",
        "outputId": "da690ad9-8f21-47f3-92b0-87352aa4a8da"
      },
      "id": "gJruEzbygfPw",
      "execution_count": 13,
      "outputs": [
        {
          "output_type": "stream",
          "name": "stdout",
          "text": [
            "tensor([[[0.3634, 0.3002, 0.3285, 0.3156],\n",
            "         [0.0434, 0.5216, 0.5051, 0.1086],\n",
            "         [0.6225, 0.8788, 0.6743, 0.7248]],\n",
            "\n",
            "        [[0.7739, 0.0169, 0.2722, 0.2961],\n",
            "         [0.6061, 0.4840, 0.3481, 0.3385],\n",
            "         [0.3722, 0.3018, 0.9024, 0.0771]]])\n",
            "3 torch.Size([2, 3, 4])\n"
          ]
        }
      ]
    },
    {
      "cell_type": "code",
      "source": [
        "# image tensors - they have (size=(height,width,image_channels)) color channels re RGB\n",
        "rnadom_img= torch.rand(size=(200,200,3))\n",
        "rnadom_img"
      ],
      "metadata": {
        "colab": {
          "base_uri": "https://localhost:8080/"
        },
        "id": "VHUHY_NfiyCk",
        "outputId": "13b036f1-e876-4a6b-e193-7bfe607c9534"
      },
      "id": "VHUHY_NfiyCk",
      "execution_count": 14,
      "outputs": [
        {
          "output_type": "execute_result",
          "data": {
            "text/plain": [
              "tensor([[[5.5874e-01, 2.4001e-01, 7.4421e-01],\n",
              "         [1.4245e-01, 5.6980e-01, 6.0849e-01],\n",
              "         [8.9238e-01, 7.0366e-01, 1.4282e-01],\n",
              "         ...,\n",
              "         [1.1727e-01, 8.5873e-02, 8.8079e-01],\n",
              "         [3.6447e-01, 8.9047e-01, 4.4210e-01],\n",
              "         [9.4189e-01, 2.9454e-01, 1.5103e-01]],\n",
              "\n",
              "        [[8.0628e-01, 7.4388e-01, 6.8397e-01],\n",
              "         [1.8317e-01, 6.6975e-01, 9.1163e-02],\n",
              "         [7.7055e-01, 4.5999e-01, 2.6144e-01],\n",
              "         ...,\n",
              "         [9.6105e-01, 1.2093e-01, 7.7517e-01],\n",
              "         [2.3758e-01, 8.5871e-01, 1.2721e-01],\n",
              "         [8.7603e-01, 6.9402e-01, 8.7734e-01]],\n",
              "\n",
              "        [[4.8150e-01, 3.1606e-01, 1.6505e-01],\n",
              "         [9.5076e-02, 5.9921e-01, 8.6681e-01],\n",
              "         [1.1462e-01, 2.9422e-01, 4.0403e-01],\n",
              "         ...,\n",
              "         [7.4592e-01, 1.5153e-01, 4.6894e-01],\n",
              "         [5.5829e-01, 8.9880e-01, 7.7130e-01],\n",
              "         [1.8259e-01, 6.8238e-01, 4.5743e-02]],\n",
              "\n",
              "        ...,\n",
              "\n",
              "        [[9.9254e-01, 6.7938e-01, 2.8877e-01],\n",
              "         [9.5670e-01, 5.3106e-01, 5.8676e-01],\n",
              "         [1.8544e-01, 9.3868e-01, 2.6821e-01],\n",
              "         ...,\n",
              "         [4.8603e-01, 7.9945e-01, 7.7277e-01],\n",
              "         [3.7594e-01, 2.2485e-01, 6.9141e-01],\n",
              "         [6.6536e-01, 1.6534e-01, 9.8858e-01]],\n",
              "\n",
              "        [[2.4188e-01, 8.6148e-03, 7.4109e-01],\n",
              "         [4.3903e-01, 6.8098e-04, 3.4000e-01],\n",
              "         [6.1700e-01, 1.7295e-01, 7.4350e-01],\n",
              "         ...,\n",
              "         [2.7675e-01, 9.1510e-01, 3.4667e-01],\n",
              "         [6.7397e-02, 7.9004e-02, 4.4074e-01],\n",
              "         [7.6359e-01, 7.0863e-01, 1.7316e-01]],\n",
              "\n",
              "        [[5.2824e-01, 9.4493e-01, 3.4894e-02],\n",
              "         [4.4495e-01, 7.7979e-01, 2.3289e-01],\n",
              "         [6.0476e-01, 7.8205e-01, 8.8637e-01],\n",
              "         ...,\n",
              "         [2.2363e-01, 8.3626e-01, 1.0804e-01],\n",
              "         [2.0000e-02, 2.9978e-02, 4.2468e-01],\n",
              "         [2.6320e-01, 4.3719e-01, 9.3593e-01]]])"
            ]
          },
          "metadata": {},
          "execution_count": 14
        }
      ]
    },
    {
      "cell_type": "markdown",
      "source": [
        "### Zeros and ones tensors"
      ],
      "metadata": {
        "id": "_6dlfHy1jvy1"
      },
      "id": "_6dlfHy1jvy1"
    },
    {
      "cell_type": "code",
      "source": [
        "zeros = torch.zeros(size=(3,2))\n",
        "zeros,zeros.ndim,zeros.shape"
      ],
      "metadata": {
        "colab": {
          "base_uri": "https://localhost:8080/"
        },
        "id": "lC8aycjpjyhX",
        "outputId": "f6815bc9-3de7-4ce5-bec0-fc3b2147ffc4"
      },
      "id": "lC8aycjpjyhX",
      "execution_count": 15,
      "outputs": [
        {
          "output_type": "execute_result",
          "data": {
            "text/plain": [
              "(tensor([[0., 0.],\n",
              "         [0., 0.],\n",
              "         [0., 0.]]),\n",
              " 2,\n",
              " torch.Size([3, 2]))"
            ]
          },
          "metadata": {},
          "execution_count": 15
        }
      ]
    },
    {
      "cell_type": "code",
      "source": [
        "ones=torch.ones(size=[2,3])\n",
        "ones,ones.ndim,ones.shape"
      ],
      "metadata": {
        "colab": {
          "base_uri": "https://localhost:8080/"
        },
        "id": "1-FZlddvjzgD",
        "outputId": "0e04629d-0265-4dc3-8e06-427ffe3ae890"
      },
      "id": "1-FZlddvjzgD",
      "execution_count": 16,
      "outputs": [
        {
          "output_type": "execute_result",
          "data": {
            "text/plain": [
              "(tensor([[1., 1., 1.],\n",
              "         [1., 1., 1.]]),\n",
              " 2,\n",
              " torch.Size([2, 3]))"
            ]
          },
          "metadata": {},
          "execution_count": 16
        }
      ]
    },
    {
      "cell_type": "markdown",
      "source": [
        "### Range and tensors"
      ],
      "metadata": {
        "id": "JvaV7Gall1nr"
      },
      "id": "JvaV7Gall1nr"
    },
    {
      "cell_type": "code",
      "source": [
        "torch.range(1,10)"
      ],
      "metadata": {
        "colab": {
          "base_uri": "https://localhost:8080/"
        },
        "id": "nn8FkpL5lnIH",
        "outputId": "a2a7c678-8c9a-42f1-8070-fb9dd61b8bbc"
      },
      "id": "nn8FkpL5lnIH",
      "execution_count": 17,
      "outputs": [
        {
          "output_type": "stream",
          "name": "stderr",
          "text": [
            "/tmp/ipython-input-17-1136815087.py:1: UserWarning: torch.range is deprecated and will be removed in a future release because its behavior is inconsistent with Python's range builtin. Instead, use torch.arange, which produces values in [start, end).\n",
            "  torch.range(1,10)\n"
          ]
        },
        {
          "output_type": "execute_result",
          "data": {
            "text/plain": [
              "tensor([ 1.,  2.,  3.,  4.,  5.,  6.,  7.,  8.,  9., 10.])"
            ]
          },
          "metadata": {},
          "execution_count": 17
        }
      ]
    },
    {
      "cell_type": "code",
      "source": [
        "A=torch.arange(start=1,step=2,end=10)"
      ],
      "metadata": {
        "id": "YFuyJHNRl6Wm"
      },
      "id": "YFuyJHNRl6Wm",
      "execution_count": 18,
      "outputs": []
    },
    {
      "cell_type": "code",
      "source": [
        "A.dtype"
      ],
      "metadata": {
        "colab": {
          "base_uri": "https://localhost:8080/"
        },
        "id": "3S9wM2r2l-F4",
        "outputId": "926e4dfa-1a70-439e-b96a-2f8eaceea8db"
      },
      "id": "3S9wM2r2l-F4",
      "execution_count": 19,
      "outputs": [
        {
          "output_type": "execute_result",
          "data": {
            "text/plain": [
              "torch.int64"
            ]
          },
          "metadata": {},
          "execution_count": 19
        }
      ]
    },
    {
      "cell_type": "code",
      "source": [
        "# default datatype in torch is float32\n",
        "t3= torch.tensor([3.,2.],dtype=torch.float64,requires_grad=True)\n",
        "print(t3)"
      ],
      "metadata": {
        "colab": {
          "base_uri": "https://localhost:8080/"
        },
        "id": "UgfksI8lnVE6",
        "outputId": "b2b74bee-5951-49d8-bc24-8b9a8711cea7"
      },
      "id": "UgfksI8lnVE6",
      "execution_count": 20,
      "outputs": [
        {
          "output_type": "stream",
          "name": "stdout",
          "text": [
            "tensor([3., 2.], dtype=torch.float64, requires_grad=True)\n"
          ]
        }
      ]
    },
    {
      "cell_type": "code",
      "source": [
        "t4=t3.type(torch.long)\n",
        "t4.dtype"
      ],
      "metadata": {
        "colab": {
          "base_uri": "https://localhost:8080/"
        },
        "id": "iLr920XSq7ao",
        "outputId": "fd11df5f-bca0-4a44-931a-285b2617a0a1"
      },
      "id": "iLr920XSq7ao",
      "execution_count": 21,
      "outputs": [
        {
          "output_type": "execute_result",
          "data": {
            "text/plain": [
              "torch.int64"
            ]
          },
          "metadata": {},
          "execution_count": 21
        }
      ]
    },
    {
      "cell_type": "code",
      "source": [
        "try :\n",
        "  print(t3*t4)\n",
        "except :\n",
        "  print(\"error because of dtype mismatch\")"
      ],
      "metadata": {
        "colab": {
          "base_uri": "https://localhost:8080/"
        },
        "id": "58Xz9H_1rBwJ",
        "outputId": "0ded9471-81b6-49af-bd9c-514824a6c423"
      },
      "id": "58Xz9H_1rBwJ",
      "execution_count": 22,
      "outputs": [
        {
          "output_type": "stream",
          "name": "stdout",
          "text": [
            "tensor([9., 4.], dtype=torch.float64, grad_fn=<MulBackward0>)\n"
          ]
        }
      ]
    },
    {
      "cell_type": "markdown",
      "source": [
        "## Tensor Operations\n",
        "1. Addition\n",
        "2. Sub\n",
        "3. Multiplication - ele wise\n",
        "4. Division\n",
        "5. Matrix Multiplication"
      ],
      "metadata": {
        "id": "do7qsGd5vYJE"
      },
      "id": "do7qsGd5vYJE"
    },
    {
      "cell_type": "code",
      "source": [
        "add1 = torch.tensor([1,2,3])\n",
        "add2 = torch.tensor([4,5,6])\n",
        "print(add1+add2)\n",
        "print(torch.add(add1,add2)) #.add()"
      ],
      "metadata": {
        "colab": {
          "base_uri": "https://localhost:8080/"
        },
        "id": "YT8RFoH_tf7q",
        "outputId": "d093f56e-cec3-4010-df63-5e504836221e"
      },
      "id": "YT8RFoH_tf7q",
      "execution_count": 23,
      "outputs": [
        {
          "output_type": "stream",
          "name": "stdout",
          "text": [
            "tensor([5, 7, 9])\n",
            "tensor([5, 7, 9])\n"
          ]
        }
      ]
    },
    {
      "cell_type": "code",
      "source": [
        "add1+10 #ele wise addition"
      ],
      "metadata": {
        "colab": {
          "base_uri": "https://localhost:8080/"
        },
        "id": "_dan4LvTwfEx",
        "outputId": "1eab74ea-1e0d-4760-e6d4-0c61dc219da0"
      },
      "id": "_dan4LvTwfEx",
      "execution_count": 24,
      "outputs": [
        {
          "output_type": "execute_result",
          "data": {
            "text/plain": [
              "tensor([11, 12, 13])"
            ]
          },
          "metadata": {},
          "execution_count": 24
        }
      ]
    },
    {
      "cell_type": "code",
      "source": [
        "add1*add2"
      ],
      "metadata": {
        "colab": {
          "base_uri": "https://localhost:8080/"
        },
        "id": "H1-oZhEqwmQd",
        "outputId": "ea8cfb68-c061-445e-b782-30df5c9cd63e"
      },
      "id": "H1-oZhEqwmQd",
      "execution_count": 25,
      "outputs": [
        {
          "output_type": "execute_result",
          "data": {
            "text/plain": [
              "tensor([ 4, 10, 18])"
            ]
          },
          "metadata": {},
          "execution_count": 25
        }
      ]
    },
    {
      "cell_type": "code",
      "source": [
        "add1*2"
      ],
      "metadata": {
        "colab": {
          "base_uri": "https://localhost:8080/"
        },
        "id": "usZsCLjtwrXn",
        "outputId": "6b22ba3c-becc-441f-d9c1-6ccf24138dd7"
      },
      "id": "usZsCLjtwrXn",
      "execution_count": 26,
      "outputs": [
        {
          "output_type": "execute_result",
          "data": {
            "text/plain": [
              "tensor([2, 4, 6])"
            ]
          },
          "metadata": {},
          "execution_count": 26
        }
      ]
    },
    {
      "cell_type": "code",
      "source": [
        "add1-2"
      ],
      "metadata": {
        "colab": {
          "base_uri": "https://localhost:8080/"
        },
        "id": "UVBVTo4xwuvb",
        "outputId": "0e7fc250-efc8-4b51-aa67-1cdf1c3b6f2c"
      },
      "id": "UVBVTo4xwuvb",
      "execution_count": 27,
      "outputs": [
        {
          "output_type": "execute_result",
          "data": {
            "text/plain": [
              "tensor([-1,  0,  1])"
            ]
          },
          "metadata": {},
          "execution_count": 27
        }
      ]
    },
    {
      "cell_type": "code",
      "source": [
        "#in built funtions\n",
        "print(add1.add(add2))\n",
        "torch.mul(add2,10)"
      ],
      "metadata": {
        "colab": {
          "base_uri": "https://localhost:8080/"
        },
        "id": "QDib-TD-w4ta",
        "outputId": "077b170b-aabd-4895-b784-7f040dd0b104"
      },
      "id": "QDib-TD-w4ta",
      "execution_count": 28,
      "outputs": [
        {
          "output_type": "stream",
          "name": "stdout",
          "text": [
            "tensor([5, 7, 9])\n"
          ]
        },
        {
          "output_type": "execute_result",
          "data": {
            "text/plain": [
              "tensor([40, 50, 60])"
            ]
          },
          "metadata": {},
          "execution_count": 28
        }
      ]
    },
    {
      "cell_type": "code",
      "source": [
        "#matric multiplication- dot product and ele wise multiplication 1D\n",
        "print(add1.dot(add2) )\n",
        "print(torch.matmul(add1,add2))\n",
        "print(add1*add2)"
      ],
      "metadata": {
        "colab": {
          "base_uri": "https://localhost:8080/"
        },
        "id": "BaqI9eeZxBKV",
        "outputId": "85f8bdc6-788e-4475-dae6-78abcb1de801"
      },
      "id": "BaqI9eeZxBKV",
      "execution_count": 29,
      "outputs": [
        {
          "output_type": "stream",
          "name": "stdout",
          "text": [
            "tensor(32)\n",
            "tensor(32)\n",
            "tensor([ 4, 10, 18])\n"
          ]
        }
      ]
    },
    {
      "cell_type": "code",
      "source": [
        "%%time\n",
        "value=0\n",
        "for i in range(len(add1)):\n",
        "  value+= add1[i]*add1[i]\n",
        "print(value)\n"
      ],
      "metadata": {
        "colab": {
          "base_uri": "https://localhost:8080/"
        },
        "id": "MBd44g3fxq3b",
        "outputId": "b0efdf42-a8a5-4483-f56d-a4d94b307ac5"
      },
      "id": "MBd44g3fxq3b",
      "execution_count": 30,
      "outputs": [
        {
          "output_type": "stream",
          "name": "stdout",
          "text": [
            "tensor(14)\n",
            "CPU times: user 786 µs, sys: 0 ns, total: 786 µs\n",
            "Wall time: 792 µs\n"
          ]
        }
      ]
    },
    {
      "cell_type": "markdown",
      "source": [
        "### Common errors: Shape error\n",
        "2 rules in matrix mul:\n",
        "1. inner dim must match:-\n",
        "  - (3,2) @ (3,2)-- wont work\n",
        "  - (2,3) @ (3,2) -- will work\n",
        "  - (3,2) @(2,3) -- will work\n",
        "2. the resulting matrix has the shape of the outer dim (3,3)\n"
      ],
      "metadata": {
        "id": "KL_UfxPbBzxS"
      },
      "id": "KL_UfxPbBzxS"
    },
    {
      "cell_type": "code",
      "source": [
        "torch.matmul(torch.rand(3,2), torch.rand(2,3))"
      ],
      "metadata": {
        "colab": {
          "base_uri": "https://localhost:8080/"
        },
        "id": "xd3hggRBBxmd",
        "outputId": "086b523c-f122-4925-87e4-06144706028a"
      },
      "id": "xd3hggRBBxmd",
      "execution_count": 31,
      "outputs": [
        {
          "output_type": "execute_result",
          "data": {
            "text/plain": [
              "tensor([[0.0679, 0.2126, 0.3576],\n",
              "        [0.2547, 0.8209, 1.3610],\n",
              "        [0.0946, 0.5791, 0.7362]])"
            ]
          },
          "metadata": {},
          "execution_count": 31
        }
      ]
    },
    {
      "cell_type": "code",
      "source": [
        "try:\n",
        "  torch.matmul(torch.rand(3,2), torch.rand(3,2))\n",
        "except Exception as e:\n",
        "  print(\"inner dim doesnt match\")"
      ],
      "metadata": {
        "colab": {
          "base_uri": "https://localhost:8080/"
        },
        "id": "8kpe5umRBUJw",
        "outputId": "d29007c8-69aa-4340-dfff-432a01d0e864"
      },
      "id": "8kpe5umRBUJw",
      "execution_count": 32,
      "outputs": [
        {
          "output_type": "stream",
          "name": "stdout",
          "text": [
            "inner dim doesnt match\n"
          ]
        }
      ]
    },
    {
      "cell_type": "code",
      "source": [
        "# shapes for matrix mul - how to deal with these errors\n",
        "tensor_A = torch.tensor([[1,2],\n",
        "                         [3,4],\n",
        "                         [5,6]\n",
        "                         ])\n",
        "tensor_B = torch.tensor([[0,9],\n",
        "                         [8,7],\n",
        "                         [6,5]])\n",
        "print(tensor_A)\n",
        "print(tensor_B)"
      ],
      "metadata": {
        "colab": {
          "base_uri": "https://localhost:8080/"
        },
        "id": "Dh0mfe5EBqsQ",
        "outputId": "7b6e75d9-9dc8-4b11-e75e-a472ba1b7757"
      },
      "id": "Dh0mfe5EBqsQ",
      "execution_count": 33,
      "outputs": [
        {
          "output_type": "stream",
          "name": "stdout",
          "text": [
            "tensor([[1, 2],\n",
            "        [3, 4],\n",
            "        [5, 6]])\n",
            "tensor([[0, 9],\n",
            "        [8, 7],\n",
            "        [6, 5]])\n"
          ]
        }
      ]
    },
    {
      "cell_type": "code",
      "source": [
        "try:\n",
        "  torch.mm(tensor_A,tensor_B) ## mm is short for matmul\n",
        "except Exception as e:\n",
        "  print(\" mat1 and mat2 shapes cannot be multiplied (3x2 and 3x2)\")"
      ],
      "metadata": {
        "colab": {
          "base_uri": "https://localhost:8080/"
        },
        "id": "Q0S5-1D2DVub",
        "outputId": "4d986edc-bd1b-4a37-a562-8937bffeafb8"
      },
      "id": "Q0S5-1D2DVub",
      "execution_count": 34,
      "outputs": [
        {
          "output_type": "stream",
          "name": "stdout",
          "text": [
            " mat1 and mat2 shapes cannot be multiplied (3x2 and 3x2)\n"
          ]
        }
      ]
    },
    {
      "cell_type": "code",
      "source": [
        "# transpose - to manipulate the shape of tensor - switches the dim of the given\n",
        "# tensor\n",
        "torch.mm(tensor_A,tensor_B.T) #.T"
      ],
      "metadata": {
        "colab": {
          "base_uri": "https://localhost:8080/"
        },
        "id": "17vOocqRDrQ_",
        "outputId": "70c6fa98-c72a-482f-9db3-bfa7a510965f"
      },
      "id": "17vOocqRDrQ_",
      "execution_count": 35,
      "outputs": [
        {
          "output_type": "execute_result",
          "data": {
            "text/plain": [
              "tensor([[18, 22, 16],\n",
              "        [36, 52, 38],\n",
              "        [54, 82, 60]])"
            ]
          },
          "metadata": {},
          "execution_count": 35
        }
      ]
    },
    {
      "cell_type": "code",
      "source": [
        "tensor_B.T.shape"
      ],
      "metadata": {
        "colab": {
          "base_uri": "https://localhost:8080/"
        },
        "id": "rq7cHQA4ESDK",
        "outputId": "05266139-aa84-4af6-f93a-d5c25a020719"
      },
      "id": "rq7cHQA4ESDK",
      "execution_count": 36,
      "outputs": [
        {
          "output_type": "execute_result",
          "data": {
            "text/plain": [
              "torch.Size([2, 3])"
            ]
          },
          "metadata": {},
          "execution_count": 36
        }
      ]
    },
    {
      "cell_type": "markdown",
      "source": [
        "## Tensor aggregration - mean,min,max,sum\n"
      ],
      "metadata": {
        "id": "LenUmDXUFW74"
      },
      "id": "LenUmDXUFW74"
    },
    {
      "cell_type": "code",
      "source": [
        "X= torch.arange(5,100,25)\n",
        "X"
      ],
      "metadata": {
        "colab": {
          "base_uri": "https://localhost:8080/"
        },
        "id": "f6eevH7dEWuy",
        "outputId": "af7ac340-ae42-4bb8-d1a0-c50137067b40"
      },
      "id": "f6eevH7dEWuy",
      "execution_count": 37,
      "outputs": [
        {
          "output_type": "execute_result",
          "data": {
            "text/plain": [
              "tensor([ 5, 30, 55, 80])"
            ]
          },
          "metadata": {},
          "execution_count": 37
        }
      ]
    },
    {
      "cell_type": "code",
      "source": [
        "torch.min(X),X.min() # min func"
      ],
      "metadata": {
        "colab": {
          "base_uri": "https://localhost:8080/"
        },
        "id": "rY8VwNPwFmSG",
        "outputId": "4aeda090-6fc5-41ec-d132-a54b8d31a6ed"
      },
      "id": "rY8VwNPwFmSG",
      "execution_count": 38,
      "outputs": [
        {
          "output_type": "execute_result",
          "data": {
            "text/plain": [
              "(tensor(5), tensor(5))"
            ]
          },
          "metadata": {},
          "execution_count": 38
        }
      ]
    },
    {
      "cell_type": "code",
      "source": [
        "print(torch.max(X) )\n",
        "# or u can also use:\n",
        "print(X.max())"
      ],
      "metadata": {
        "colab": {
          "base_uri": "https://localhost:8080/"
        },
        "id": "Hf1oSxCjFt-J",
        "outputId": "61eb3519-cf8b-4d69-f654-ad9e8aeb7d8b"
      },
      "id": "Hf1oSxCjFt-J",
      "execution_count": 39,
      "outputs": [
        {
          "output_type": "stream",
          "name": "stdout",
          "text": [
            "tensor(80)\n",
            "tensor(80)\n"
          ]
        }
      ]
    },
    {
      "cell_type": "code",
      "source": [
        "try :\n",
        "  X.mean()\n",
        "except Exception as e:\n",
        "  print(\"RuntimeError: mean(): could not infer output dtype. Input dtype must be either a floating point or complex dtype. Got: Long\")"
      ],
      "metadata": {
        "colab": {
          "base_uri": "https://localhost:8080/"
        },
        "id": "84vKIg82F07D",
        "outputId": "a743680f-03ba-440c-dbd3-0b1dd37098d4"
      },
      "id": "84vKIg82F07D",
      "execution_count": 40,
      "outputs": [
        {
          "output_type": "stream",
          "name": "stdout",
          "text": [
            "RuntimeError: mean(): could not infer output dtype. Input dtype must be either a floating point or complex dtype. Got: Long\n"
          ]
        }
      ]
    },
    {
      "cell_type": "code",
      "source": [
        "# torch.mean()-> requires float32\n",
        "X.dtype"
      ],
      "metadata": {
        "colab": {
          "base_uri": "https://localhost:8080/"
        },
        "id": "FJZEZuEGF_X-",
        "outputId": "3fa96276-305b-415a-c162-41d24637dfeb"
      },
      "id": "FJZEZuEGF_X-",
      "execution_count": 41,
      "outputs": [
        {
          "output_type": "execute_result",
          "data": {
            "text/plain": [
              "torch.int64"
            ]
          },
          "metadata": {},
          "execution_count": 41
        }
      ]
    },
    {
      "cell_type": "code",
      "source": [
        "torch.mean(X.type(torch.float32))"
      ],
      "metadata": {
        "colab": {
          "base_uri": "https://localhost:8080/"
        },
        "id": "XIpIdtTzGZ6D",
        "outputId": "4422e32f-5dbb-4943-d5f1-df636f616576"
      },
      "id": "XIpIdtTzGZ6D",
      "execution_count": 42,
      "outputs": [
        {
          "output_type": "execute_result",
          "data": {
            "text/plain": [
              "tensor(42.5000)"
            ]
          },
          "metadata": {},
          "execution_count": 42
        }
      ]
    },
    {
      "cell_type": "code",
      "source": [
        "X.dtype"
      ],
      "metadata": {
        "colab": {
          "base_uri": "https://localhost:8080/"
        },
        "id": "vnTICjUgGgaS",
        "outputId": "95d03bdb-bb06-40d5-c511-c606f5ba2a00"
      },
      "id": "vnTICjUgGgaS",
      "execution_count": 43,
      "outputs": [
        {
          "output_type": "execute_result",
          "data": {
            "text/plain": [
              "torch.int64"
            ]
          },
          "metadata": {},
          "execution_count": 43
        }
      ]
    },
    {
      "cell_type": "code",
      "source": [
        "X.type(torch.float32).dtype"
      ],
      "metadata": {
        "colab": {
          "base_uri": "https://localhost:8080/"
        },
        "id": "qhI7PxgLGipk",
        "outputId": "9b71e63b-7a6a-44b9-cbb6-fc7d51e6c44e"
      },
      "id": "qhI7PxgLGipk",
      "execution_count": 44,
      "outputs": [
        {
          "output_type": "execute_result",
          "data": {
            "text/plain": [
              "torch.float32"
            ]
          },
          "metadata": {},
          "execution_count": 44
        }
      ]
    },
    {
      "cell_type": "code",
      "source": [
        "# position min and max\n",
        "X.argmin() #- at index 0 we find the min"
      ],
      "metadata": {
        "colab": {
          "base_uri": "https://localhost:8080/"
        },
        "id": "pQrPVQsXG1N5",
        "outputId": "55bbd124-2669-4831-ef0c-78a0107216ca"
      },
      "id": "pQrPVQsXG1N5",
      "execution_count": 45,
      "outputs": [
        {
          "output_type": "execute_result",
          "data": {
            "text/plain": [
              "tensor(0)"
            ]
          },
          "metadata": {},
          "execution_count": 45
        }
      ]
    },
    {
      "cell_type": "code",
      "source": [
        "X.argmax() #- at index 3 max is found"
      ],
      "metadata": {
        "colab": {
          "base_uri": "https://localhost:8080/"
        },
        "id": "EiDpUvzHHDNg",
        "outputId": "f6198982-a7ad-4673-d716-128cc8d9a045"
      },
      "id": "EiDpUvzHHDNg",
      "execution_count": 46,
      "outputs": [
        {
          "output_type": "execute_result",
          "data": {
            "text/plain": [
              "tensor(3)"
            ]
          },
          "metadata": {},
          "execution_count": 46
        }
      ]
    },
    {
      "cell_type": "code",
      "source": [
        "X[3]"
      ],
      "metadata": {
        "colab": {
          "base_uri": "https://localhost:8080/"
        },
        "id": "e_xK4D4qHMyz",
        "outputId": "40518120-c080-41e8-9204-c696d3c46614"
      },
      "id": "e_xK4D4qHMyz",
      "execution_count": 47,
      "outputs": [
        {
          "output_type": "execute_result",
          "data": {
            "text/plain": [
              "tensor(80)"
            ]
          },
          "metadata": {},
          "execution_count": 47
        }
      ]
    },
    {
      "cell_type": "markdown",
      "source": [
        "### reshaping, viewing, squezzing, unsqueezing and stackingtensors\n",
        "* View - return a view of an input tensor of certain shape but keep the same memory -> changes in the view reflects the orginal\n",
        "\n",
        "* Reshaping- reshapes an input tensor to a defined shape\n",
        "\n",
        "* Stacking - combine multiple tensors on top of each other - vstack or hstack\n",
        "\n",
        "* Squeeze- removes all `1` dimensions from a tensor\n",
        "\n",
        "* Unsqueeze - add a `1` dimension\n",
        "\n",
        "* Premute- return a view of the input the dim permuted(swapped) in a certain way\n",
        "\n",
        "**Note** ❗ permuting returns a view (shares the same data as the original), the values in the permuted tensor will be the same as the original tensor and if you change the values in the view, it will change the values of the original."
      ],
      "metadata": {
        "id": "ZoR6jK_rHird"
      },
      "id": "ZoR6jK_rHird"
    },
    {
      "cell_type": "code",
      "source": [
        "x= torch.arange(1. , 10.)"
      ],
      "metadata": {
        "id": "nZqOigt9HU2U"
      },
      "id": "nZqOigt9HU2U",
      "execution_count": 48,
      "outputs": []
    },
    {
      "cell_type": "code",
      "source": [
        "x , x.shape"
      ],
      "metadata": {
        "colab": {
          "base_uri": "https://localhost:8080/"
        },
        "id": "aV5EM-aAKUVk",
        "outputId": "9e82b5a1-516d-4480-c935-92543ea6c02f"
      },
      "id": "aV5EM-aAKUVk",
      "execution_count": 49,
      "outputs": [
        {
          "output_type": "execute_result",
          "data": {
            "text/plain": [
              "(tensor([1., 2., 3., 4., 5., 6., 7., 8., 9.]), torch.Size([9]))"
            ]
          },
          "metadata": {},
          "execution_count": 49
        }
      ]
    },
    {
      "cell_type": "code",
      "source": [
        "# add an extra dim\n",
        "x_reshaped = x.reshape(1,9)\n",
        "x_reshaped #added a [] - 1 dim"
      ],
      "metadata": {
        "colab": {
          "base_uri": "https://localhost:8080/"
        },
        "id": "zm62KTH0KWHG",
        "outputId": "a1a7cb40-1f8d-4a8e-c3c1-8d80f0b5946f"
      },
      "id": "zm62KTH0KWHG",
      "execution_count": 50,
      "outputs": [
        {
          "output_type": "execute_result",
          "data": {
            "text/plain": [
              "tensor([[1., 2., 3., 4., 5., 6., 7., 8., 9.]])"
            ]
          },
          "metadata": {},
          "execution_count": 50
        }
      ]
    },
    {
      "cell_type": "code",
      "source": [
        "x_reshaped_T =x.reshape(9 , 1)\n",
        "x_reshaped_T"
      ],
      "metadata": {
        "colab": {
          "base_uri": "https://localhost:8080/"
        },
        "id": "hKoVcpqQKe1t",
        "outputId": "d1f06020-850b-4b10-c145-9b4eb99c9624"
      },
      "id": "hKoVcpqQKe1t",
      "execution_count": 51,
      "outputs": [
        {
          "output_type": "execute_result",
          "data": {
            "text/plain": [
              "tensor([[1.],\n",
              "        [2.],\n",
              "        [3.],\n",
              "        [4.],\n",
              "        [5.],\n",
              "        [6.],\n",
              "        [7.],\n",
              "        [8.],\n",
              "        [9.]])"
            ]
          },
          "metadata": {},
          "execution_count": 51
        }
      ]
    },
    {
      "cell_type": "code",
      "source": [
        "y= torch.tensor([[1,2],\n",
        "                 [3,4]])\n",
        "y_reshaped= y.reshape(1,2,2)"
      ],
      "metadata": {
        "id": "dRVatGRJLD6I"
      },
      "id": "dRVatGRJLD6I",
      "execution_count": 52,
      "outputs": []
    },
    {
      "cell_type": "code",
      "source": [
        "y_reshaped"
      ],
      "metadata": {
        "colab": {
          "base_uri": "https://localhost:8080/"
        },
        "id": "kblO7EwALZuB",
        "outputId": "e4378233-1bb5-444a-fdfa-bfca844a3739"
      },
      "id": "kblO7EwALZuB",
      "execution_count": 53,
      "outputs": [
        {
          "output_type": "execute_result",
          "data": {
            "text/plain": [
              "tensor([[[1, 2],\n",
              "         [3, 4]]])"
            ]
          },
          "metadata": {},
          "execution_count": 53
        }
      ]
    },
    {
      "cell_type": "code",
      "source": [
        "z=y.view(1,4)"
      ],
      "metadata": {
        "id": "VfdR8wWVLrYx"
      },
      "id": "VfdR8wWVLrYx",
      "execution_count": 54,
      "outputs": []
    },
    {
      "cell_type": "code",
      "source": [
        "z #z is a view of y"
      ],
      "metadata": {
        "colab": {
          "base_uri": "https://localhost:8080/"
        },
        "id": "k76tytl2aS3A",
        "outputId": "de7c6e3a-6a30-4170-8779-3e22aaafe24f"
      },
      "id": "k76tytl2aS3A",
      "execution_count": 55,
      "outputs": [
        {
          "output_type": "execute_result",
          "data": {
            "text/plain": [
              "tensor([[1, 2, 3, 4]])"
            ]
          },
          "metadata": {},
          "execution_count": 55
        }
      ]
    },
    {
      "cell_type": "code",
      "source": [
        "z[0,0] = 5"
      ],
      "metadata": {
        "id": "AUxhqhlDaTVJ"
      },
      "id": "AUxhqhlDaTVJ",
      "execution_count": 56,
      "outputs": []
    },
    {
      "cell_type": "code",
      "source": [
        "z,y"
      ],
      "metadata": {
        "colab": {
          "base_uri": "https://localhost:8080/"
        },
        "id": "wvgD0xL_atVt",
        "outputId": "7376b8bb-1741-498c-984b-4301f69d4215"
      },
      "id": "wvgD0xL_atVt",
      "execution_count": 57,
      "outputs": [
        {
          "output_type": "execute_result",
          "data": {
            "text/plain": [
              "(tensor([[5, 2, 3, 4]]),\n",
              " tensor([[5, 2],\n",
              "         [3, 4]]))"
            ]
          },
          "metadata": {},
          "execution_count": 57
        }
      ]
    },
    {
      "cell_type": "code",
      "source": [
        "x_stacked=torch.stack([x,x,x,x],dim=0)\n",
        "x_stacked"
      ],
      "metadata": {
        "colab": {
          "base_uri": "https://localhost:8080/"
        },
        "id": "ubBohLrDauRl",
        "outputId": "be256e4c-7ff9-406d-9483-ba330063d06d"
      },
      "id": "ubBohLrDauRl",
      "execution_count": 58,
      "outputs": [
        {
          "output_type": "execute_result",
          "data": {
            "text/plain": [
              "tensor([[1., 2., 3., 4., 5., 6., 7., 8., 9.],\n",
              "        [1., 2., 3., 4., 5., 6., 7., 8., 9.],\n",
              "        [1., 2., 3., 4., 5., 6., 7., 8., 9.],\n",
              "        [1., 2., 3., 4., 5., 6., 7., 8., 9.]])"
            ]
          },
          "metadata": {},
          "execution_count": 58
        }
      ]
    },
    {
      "cell_type": "code",
      "source": [
        "x_stacked=torch.stack([x,x,x,x],dim=1)\n",
        "x_stacked"
      ],
      "metadata": {
        "colab": {
          "base_uri": "https://localhost:8080/"
        },
        "id": "u-RrQ3gJa-wk",
        "outputId": "0630620d-a36b-4818-9749-0a0d82ea1d7a"
      },
      "id": "u-RrQ3gJa-wk",
      "execution_count": 59,
      "outputs": [
        {
          "output_type": "execute_result",
          "data": {
            "text/plain": [
              "tensor([[1., 1., 1., 1.],\n",
              "        [2., 2., 2., 2.],\n",
              "        [3., 3., 3., 3.],\n",
              "        [4., 4., 4., 4.],\n",
              "        [5., 5., 5., 5.],\n",
              "        [6., 6., 6., 6.],\n",
              "        [7., 7., 7., 7.],\n",
              "        [8., 8., 8., 8.],\n",
              "        [9., 9., 9., 9.]])"
            ]
          },
          "metadata": {},
          "execution_count": 59
        }
      ]
    },
    {
      "cell_type": "code",
      "source": [
        "#squeeze\n",
        "a= torch.squeeze(x,dim=0)"
      ],
      "metadata": {
        "id": "o--gX-tubBxW"
      },
      "id": "o--gX-tubBxW",
      "execution_count": 60,
      "outputs": []
    },
    {
      "cell_type": "code",
      "source": [
        "a"
      ],
      "metadata": {
        "colab": {
          "base_uri": "https://localhost:8080/"
        },
        "id": "kKyJjh4mbiO1",
        "outputId": "839f3e7d-03a2-4309-8f2b-a7771cfb4742"
      },
      "id": "kKyJjh4mbiO1",
      "execution_count": 61,
      "outputs": [
        {
          "output_type": "execute_result",
          "data": {
            "text/plain": [
              "tensor([1., 2., 3., 4., 5., 6., 7., 8., 9.])"
            ]
          },
          "metadata": {},
          "execution_count": 61
        }
      ]
    },
    {
      "cell_type": "code",
      "source": [
        "x=torch.zeros(2,1,2,1,2)\n",
        "x.size()"
      ],
      "metadata": {
        "colab": {
          "base_uri": "https://localhost:8080/"
        },
        "id": "_sAVZWzfbiv6",
        "outputId": "fd33fbc5-0600-4c4d-8db9-a0f422215fb4"
      },
      "id": "_sAVZWzfbiv6",
      "execution_count": 62,
      "outputs": [
        {
          "output_type": "execute_result",
          "data": {
            "text/plain": [
              "torch.Size([2, 1, 2, 1, 2])"
            ]
          },
          "metadata": {},
          "execution_count": 62
        }
      ]
    },
    {
      "cell_type": "code",
      "source": [
        "Y=torch.squeeze(x)\n",
        "Y.size() #removes all single dim"
      ],
      "metadata": {
        "colab": {
          "base_uri": "https://localhost:8080/"
        },
        "id": "LvycvQewcPUg",
        "outputId": "2eaf9d79-fe63-4083-99cd-92944497e377"
      },
      "id": "LvycvQewcPUg",
      "execution_count": 63,
      "outputs": [
        {
          "output_type": "execute_result",
          "data": {
            "text/plain": [
              "torch.Size([2, 2, 2])"
            ]
          },
          "metadata": {},
          "execution_count": 63
        }
      ]
    },
    {
      "cell_type": "code",
      "source": [
        "x.unsqueeze(dim=0)\n",
        "x.size()"
      ],
      "metadata": {
        "colab": {
          "base_uri": "https://localhost:8080/"
        },
        "id": "5Pvb60GHcVku",
        "outputId": "116c6bc4-4766-4585-a488-4615bafdea4e"
      },
      "id": "5Pvb60GHcVku",
      "execution_count": 64,
      "outputs": [
        {
          "output_type": "execute_result",
          "data": {
            "text/plain": [
              "torch.Size([2, 1, 2, 1, 2])"
            ]
          },
          "metadata": {},
          "execution_count": 64
        }
      ]
    },
    {
      "cell_type": "code",
      "source": [
        "#torch.permute ->rearranges the target tensor +shares a view with the orginal\n",
        "x=torch.randn(2,3,5)  #randn-Returns a tensor filled with random numbers from a normal distribution with mean 0 and variance 1\n",
        "x.size()"
      ],
      "metadata": {
        "colab": {
          "base_uri": "https://localhost:8080/"
        },
        "id": "EsMj074EdDN2",
        "outputId": "675154ce-cf89-4e76-eb75-a7b1ae235e30"
      },
      "id": "EsMj074EdDN2",
      "execution_count": 65,
      "outputs": [
        {
          "output_type": "execute_result",
          "data": {
            "text/plain": [
              "torch.Size([2, 3, 5])"
            ]
          },
          "metadata": {},
          "execution_count": 65
        }
      ]
    },
    {
      "cell_type": "code",
      "source": [
        "x"
      ],
      "metadata": {
        "colab": {
          "base_uri": "https://localhost:8080/"
        },
        "id": "6-NTX3qNdskS",
        "outputId": "1bc8f5e4-b532-45dc-91e2-5451f6393083"
      },
      "id": "6-NTX3qNdskS",
      "execution_count": 66,
      "outputs": [
        {
          "output_type": "execute_result",
          "data": {
            "text/plain": [
              "tensor([[[ 1.3989,  2.8041, -2.2623,  0.1750,  0.4079],\n",
              "         [ 1.0053,  0.6311, -1.6383, -0.1589,  0.0160],\n",
              "         [-1.1353,  0.5473,  0.4899, -0.8399,  1.1527]],\n",
              "\n",
              "        [[-1.4284,  1.6178,  0.4525, -0.2155, -0.3809],\n",
              "         [ 0.2240,  0.6696,  0.1674, -0.3190,  2.1344],\n",
              "         [ 1.6440, -1.1585, -0.6669,  0.7164,  1.5507]]])"
            ]
          },
          "metadata": {},
          "execution_count": 66
        }
      ]
    },
    {
      "cell_type": "code",
      "source": [
        "torch.permute(x, (2, 1, 0))  #dim values are passed as tuple"
      ],
      "metadata": {
        "colab": {
          "base_uri": "https://localhost:8080/"
        },
        "id": "YZ2jcnr_dwqP",
        "outputId": "cc8d5833-c648-4f76-801c-55a4d8c1652f"
      },
      "id": "YZ2jcnr_dwqP",
      "execution_count": 67,
      "outputs": [
        {
          "output_type": "execute_result",
          "data": {
            "text/plain": [
              "tensor([[[ 1.3989, -1.4284],\n",
              "         [ 1.0053,  0.2240],\n",
              "         [-1.1353,  1.6440]],\n",
              "\n",
              "        [[ 2.8041,  1.6178],\n",
              "         [ 0.6311,  0.6696],\n",
              "         [ 0.5473, -1.1585]],\n",
              "\n",
              "        [[-2.2623,  0.4525],\n",
              "         [-1.6383,  0.1674],\n",
              "         [ 0.4899, -0.6669]],\n",
              "\n",
              "        [[ 0.1750, -0.2155],\n",
              "         [-0.1589, -0.3190],\n",
              "         [-0.8399,  0.7164]],\n",
              "\n",
              "        [[ 0.4079, -0.3809],\n",
              "         [ 0.0160,  2.1344],\n",
              "         [ 1.1527,  1.5507]]])"
            ]
          },
          "metadata": {},
          "execution_count": 67
        }
      ]
    },
    {
      "cell_type": "code",
      "source": [
        "'''\n",
        "2nd dim is now 0th dim\n",
        "1st dim is now 1st dim\n",
        "0th dim is now 2nd dim\n",
        "'''"
      ],
      "metadata": {
        "colab": {
          "base_uri": "https://localhost:8080/",
          "height": 35
        },
        "id": "qAFb0To0d55w",
        "outputId": "0d29fff7-2d43-4c2d-e79a-0fe029b95708"
      },
      "id": "qAFb0To0d55w",
      "execution_count": 68,
      "outputs": [
        {
          "output_type": "execute_result",
          "data": {
            "text/plain": [
              "'\\n2nd dim is now 0th dim\\n1st dim is now 1st dim\\n0th dim is now 2nd dim\\n'"
            ],
            "application/vnd.google.colaboratory.intrinsic+json": {
              "type": "string"
            }
          },
          "metadata": {},
          "execution_count": 68
        }
      ]
    },
    {
      "cell_type": "code",
      "source": [
        "x_original = torch.rand(size=(224,224,3)) #[Height, width, color_channels]\n",
        "x_original.shape"
      ],
      "metadata": {
        "colab": {
          "base_uri": "https://localhost:8080/"
        },
        "id": "wlFu3AOReimd",
        "outputId": "5dcf90ec-cbef-4e89-aa3a-6c8c3d1e42f0"
      },
      "id": "wlFu3AOReimd",
      "execution_count": 69,
      "outputs": [
        {
          "output_type": "execute_result",
          "data": {
            "text/plain": [
              "torch.Size([224, 224, 3])"
            ]
          },
          "metadata": {},
          "execution_count": 69
        }
      ]
    },
    {
      "cell_type": "code",
      "source": [
        "x_original"
      ],
      "metadata": {
        "colab": {
          "base_uri": "https://localhost:8080/"
        },
        "id": "GRFCsdiqfQFE",
        "outputId": "5b254d76-444f-4abc-95e9-6fac75858cec"
      },
      "id": "GRFCsdiqfQFE",
      "execution_count": 70,
      "outputs": [
        {
          "output_type": "execute_result",
          "data": {
            "text/plain": [
              "tensor([[[0.5358, 0.4857, 0.0312],\n",
              "         [0.1044, 0.1085, 0.3361],\n",
              "         [0.1609, 0.0081, 0.3782],\n",
              "         ...,\n",
              "         [0.4440, 0.3537, 0.9177],\n",
              "         [0.7790, 0.2977, 0.0040],\n",
              "         [0.9821, 0.8499, 0.3028]],\n",
              "\n",
              "        [[0.4894, 0.9541, 0.9977],\n",
              "         [0.2327, 0.7011, 0.9374],\n",
              "         [0.9628, 0.8094, 0.7494],\n",
              "         ...,\n",
              "         [0.2196, 0.9876, 0.4182],\n",
              "         [0.8784, 0.9547, 0.0947],\n",
              "         [0.2479, 0.5321, 0.5495]],\n",
              "\n",
              "        [[0.5726, 0.7008, 0.9766],\n",
              "         [0.0850, 0.7882, 0.8431],\n",
              "         [0.0532, 0.4635, 0.1710],\n",
              "         ...,\n",
              "         [0.7288, 0.2995, 0.9024],\n",
              "         [0.2620, 0.0213, 0.5931],\n",
              "         [0.8892, 0.7544, 0.3581]],\n",
              "\n",
              "        ...,\n",
              "\n",
              "        [[0.7775, 0.2722, 0.9950],\n",
              "         [0.8448, 0.6830, 0.5725],\n",
              "         [0.5474, 0.9064, 0.2701],\n",
              "         ...,\n",
              "         [0.7346, 0.2624, 0.2304],\n",
              "         [0.2808, 0.3122, 0.2346],\n",
              "         [0.1597, 0.3469, 0.4092]],\n",
              "\n",
              "        [[0.7643, 0.1653, 0.5044],\n",
              "         [0.9922, 0.5939, 0.5652],\n",
              "         [0.3965, 0.6231, 0.4668],\n",
              "         ...,\n",
              "         [0.6910, 0.4605, 0.5435],\n",
              "         [0.9514, 0.1439, 0.2340],\n",
              "         [0.5948, 0.0503, 0.2386]],\n",
              "\n",
              "        [[0.8431, 0.0619, 0.9430],\n",
              "         [0.2377, 0.9215, 0.9275],\n",
              "         [0.0604, 0.6478, 0.6153],\n",
              "         ...,\n",
              "         [0.6390, 0.1873, 0.8274],\n",
              "         [0.6980, 0.1099, 0.6164],\n",
              "         [0.6879, 0.4647, 0.1729]]])"
            ]
          },
          "metadata": {},
          "execution_count": 70
        }
      ]
    },
    {
      "cell_type": "code",
      "source": [
        "#permute the org tensor to rearrange the axis (or dim) order\n",
        "x_permuted=x_original.permute(2,0,1) #shifts axis 0->1,1->2, 3->0"
      ],
      "metadata": {
        "id": "zSoHuwx_ewA7"
      },
      "id": "zSoHuwx_ewA7",
      "execution_count": 71,
      "outputs": []
    },
    {
      "cell_type": "code",
      "source": [
        "x_permuted"
      ],
      "metadata": {
        "colab": {
          "base_uri": "https://localhost:8080/"
        },
        "id": "zJsHU9ZrfRXe",
        "outputId": "355122f6-cc8e-458a-c5bd-01bbb2dc0565"
      },
      "id": "zJsHU9ZrfRXe",
      "execution_count": 72,
      "outputs": [
        {
          "output_type": "execute_result",
          "data": {
            "text/plain": [
              "tensor([[[0.5358, 0.1044, 0.1609,  ..., 0.4440, 0.7790, 0.9821],\n",
              "         [0.4894, 0.2327, 0.9628,  ..., 0.2196, 0.8784, 0.2479],\n",
              "         [0.5726, 0.0850, 0.0532,  ..., 0.7288, 0.2620, 0.8892],\n",
              "         ...,\n",
              "         [0.7775, 0.8448, 0.5474,  ..., 0.7346, 0.2808, 0.1597],\n",
              "         [0.7643, 0.9922, 0.3965,  ..., 0.6910, 0.9514, 0.5948],\n",
              "         [0.8431, 0.2377, 0.0604,  ..., 0.6390, 0.6980, 0.6879]],\n",
              "\n",
              "        [[0.4857, 0.1085, 0.0081,  ..., 0.3537, 0.2977, 0.8499],\n",
              "         [0.9541, 0.7011, 0.8094,  ..., 0.9876, 0.9547, 0.5321],\n",
              "         [0.7008, 0.7882, 0.4635,  ..., 0.2995, 0.0213, 0.7544],\n",
              "         ...,\n",
              "         [0.2722, 0.6830, 0.9064,  ..., 0.2624, 0.3122, 0.3469],\n",
              "         [0.1653, 0.5939, 0.6231,  ..., 0.4605, 0.1439, 0.0503],\n",
              "         [0.0619, 0.9215, 0.6478,  ..., 0.1873, 0.1099, 0.4647]],\n",
              "\n",
              "        [[0.0312, 0.3361, 0.3782,  ..., 0.9177, 0.0040, 0.3028],\n",
              "         [0.9977, 0.9374, 0.7494,  ..., 0.4182, 0.0947, 0.5495],\n",
              "         [0.9766, 0.8431, 0.1710,  ..., 0.9024, 0.5931, 0.3581],\n",
              "         ...,\n",
              "         [0.9950, 0.5725, 0.2701,  ..., 0.2304, 0.2346, 0.4092],\n",
              "         [0.5044, 0.5652, 0.4668,  ..., 0.5435, 0.2340, 0.2386],\n",
              "         [0.9430, 0.9275, 0.6153,  ..., 0.8274, 0.6164, 0.1729]]])"
            ]
          },
          "metadata": {},
          "execution_count": 72
        }
      ]
    },
    {
      "cell_type": "code",
      "source": [
        "x_permuted.shape"
      ],
      "metadata": {
        "colab": {
          "base_uri": "https://localhost:8080/"
        },
        "id": "cgXG-PDjfblz",
        "outputId": "69d2e231-325e-4d47-bea0-26b5dd0898bf"
      },
      "id": "cgXG-PDjfblz",
      "execution_count": 73,
      "outputs": [
        {
          "output_type": "execute_result",
          "data": {
            "text/plain": [
              "torch.Size([3, 224, 224])"
            ]
          },
          "metadata": {},
          "execution_count": 73
        }
      ]
    },
    {
      "cell_type": "code",
      "source": [
        "#indexing\n",
        "x= torch.arange(1,10).reshape(1,3,3)\n",
        "x,x.shape"
      ],
      "metadata": {
        "colab": {
          "base_uri": "https://localhost:8080/"
        },
        "id": "y_Dyb5fLflWH",
        "outputId": "282b6c59-5a63-464e-dd34-2bd08d0c1f4d"
      },
      "id": "y_Dyb5fLflWH",
      "execution_count": 74,
      "outputs": [
        {
          "output_type": "execute_result",
          "data": {
            "text/plain": [
              "(tensor([[[1, 2, 3],\n",
              "          [4, 5, 6],\n",
              "          [7, 8, 9]]]),\n",
              " torch.Size([1, 3, 3]))"
            ]
          },
          "metadata": {},
          "execution_count": 74
        }
      ]
    },
    {
      "cell_type": "code",
      "source": [
        "#lets index on it\n",
        "x[0]"
      ],
      "metadata": {
        "colab": {
          "base_uri": "https://localhost:8080/"
        },
        "id": "DjZCBZX7ihZx",
        "outputId": "9e75b306-147b-45f1-cce2-86aedfc0436f"
      },
      "id": "DjZCBZX7ihZx",
      "execution_count": 75,
      "outputs": [
        {
          "output_type": "execute_result",
          "data": {
            "text/plain": [
              "tensor([[1, 2, 3],\n",
              "        [4, 5, 6],\n",
              "        [7, 8, 9]])"
            ]
          },
          "metadata": {},
          "execution_count": 75
        }
      ]
    },
    {
      "cell_type": "code",
      "source": [
        "x[0][1]"
      ],
      "metadata": {
        "colab": {
          "base_uri": "https://localhost:8080/"
        },
        "id": "7KdGMdgxiynv",
        "outputId": "191b08e0-8869-4106-d5ce-f7351c44ac50"
      },
      "id": "7KdGMdgxiynv",
      "execution_count": 76,
      "outputs": [
        {
          "output_type": "execute_result",
          "data": {
            "text/plain": [
              "tensor([4, 5, 6])"
            ]
          },
          "metadata": {},
          "execution_count": 76
        }
      ]
    },
    {
      "cell_type": "code",
      "source": [
        "x[0][1][2]"
      ],
      "metadata": {
        "colab": {
          "base_uri": "https://localhost:8080/"
        },
        "id": "DK_mgfEPi1XV",
        "outputId": "72b2c583-3464-4e49-d35d-651057735400"
      },
      "id": "DK_mgfEPi1XV",
      "execution_count": 77,
      "outputs": [
        {
          "output_type": "execute_result",
          "data": {
            "text/plain": [
              "tensor(6)"
            ]
          },
          "metadata": {},
          "execution_count": 77
        }
      ]
    },
    {
      "cell_type": "code",
      "source": [
        "x[:,:,1]"
      ],
      "metadata": {
        "colab": {
          "base_uri": "https://localhost:8080/"
        },
        "id": "PCEaYXDUi8kM",
        "outputId": "9088d54b-d681-4a48-e461-54e9eed2ec9b"
      },
      "id": "PCEaYXDUi8kM",
      "execution_count": 78,
      "outputs": [
        {
          "output_type": "execute_result",
          "data": {
            "text/plain": [
              "tensor([[2, 5, 8]])"
            ]
          },
          "metadata": {},
          "execution_count": 78
        }
      ]
    },
    {
      "cell_type": "code",
      "source": [
        "x[0,1,1]"
      ],
      "metadata": {
        "colab": {
          "base_uri": "https://localhost:8080/"
        },
        "id": "ggBbZjT1wN-J",
        "outputId": "3b898be2-b4ad-4dfc-a587-044aae233fd5"
      },
      "id": "ggBbZjT1wN-J",
      "execution_count": 79,
      "outputs": [
        {
          "output_type": "execute_result",
          "data": {
            "text/plain": [
              "tensor(5)"
            ]
          },
          "metadata": {},
          "execution_count": 79
        }
      ]
    },
    {
      "cell_type": "code",
      "source": [
        "x[:,2,2]"
      ],
      "metadata": {
        "colab": {
          "base_uri": "https://localhost:8080/"
        },
        "id": "9y8QqZ3ryI1y",
        "outputId": "c03ff85f-3cae-4856-b778-7e638d8da186"
      },
      "id": "9y8QqZ3ryI1y",
      "execution_count": 80,
      "outputs": [
        {
          "output_type": "execute_result",
          "data": {
            "text/plain": [
              "tensor([9])"
            ]
          },
          "metadata": {},
          "execution_count": 80
        }
      ]
    },
    {
      "cell_type": "markdown",
      "source": [
        "### pytorch and numpy\n",
        "\n",
        "- `torch.from_numpy(ndarray)`  numpy -> torch\n",
        "-  `torch.Tensor.numpy()` tensor -> numpy\n",
        "\n",
        "- default dtype of numpy is float64 and pytorch is float32"
      ],
      "metadata": {
        "id": "2k36pXEAzL_8"
      },
      "id": "2k36pXEAzL_8"
    },
    {
      "cell_type": "code",
      "source": [
        "import numpy as np"
      ],
      "metadata": {
        "id": "OnqI8paGyoms"
      },
      "id": "OnqI8paGyoms",
      "execution_count": 81,
      "outputs": []
    },
    {
      "cell_type": "code",
      "source": [
        "arr = np.arange(1.,8.)\n",
        "tensor = torch.from_numpy(arr)\n",
        "arr,tensor"
      ],
      "metadata": {
        "colab": {
          "base_uri": "https://localhost:8080/"
        },
        "id": "5uFkdrmN0ovo",
        "outputId": "fd42ce53-a051-43dc-c5b6-e426a2f4a25f"
      },
      "id": "5uFkdrmN0ovo",
      "execution_count": 82,
      "outputs": [
        {
          "output_type": "execute_result",
          "data": {
            "text/plain": [
              "(array([1., 2., 3., 4., 5., 6., 7.]),\n",
              " tensor([1., 2., 3., 4., 5., 6., 7.], dtype=torch.float64))"
            ]
          },
          "metadata": {},
          "execution_count": 82
        }
      ]
    },
    {
      "cell_type": "code",
      "source": [
        "arr.dtype"
      ],
      "metadata": {
        "colab": {
          "base_uri": "https://localhost:8080/"
        },
        "id": "2wutzSbw04B6",
        "outputId": "cbee8905-c8b5-4b48-c7c8-213cfab937da"
      },
      "id": "2wutzSbw04B6",
      "execution_count": 83,
      "outputs": [
        {
          "output_type": "execute_result",
          "data": {
            "text/plain": [
              "dtype('float64')"
            ]
          },
          "metadata": {},
          "execution_count": 83
        }
      ]
    },
    {
      "cell_type": "code",
      "source": [
        "arr =arr+1"
      ],
      "metadata": {
        "id": "QmjQLRSq06jy"
      },
      "id": "QmjQLRSq06jy",
      "execution_count": 84,
      "outputs": []
    },
    {
      "cell_type": "code",
      "source": [
        "arr , tensor"
      ],
      "metadata": {
        "colab": {
          "base_uri": "https://localhost:8080/"
        },
        "id": "BI5XafYb1WLY",
        "outputId": "e02bcbe0-a270-4112-dfb5-f3b68dadc46b"
      },
      "id": "BI5XafYb1WLY",
      "execution_count": 85,
      "outputs": [
        {
          "output_type": "execute_result",
          "data": {
            "text/plain": [
              "(array([2., 3., 4., 5., 6., 7., 8.]),\n",
              " tensor([1., 2., 3., 4., 5., 6., 7.], dtype=torch.float64))"
            ]
          },
          "metadata": {},
          "execution_count": 85
        }
      ]
    },
    {
      "cell_type": "markdown",
      "source": [
        "### reproducbility (taking out random out of random)\n",
        "\n",
        "- for reproducibile elements for experiments\n",
        "- to reduce randomness in NN = **random seed**"
      ],
      "metadata": {
        "id": "hs0W2DyB2Lt8"
      },
      "id": "hs0W2DyB2Lt8"
    },
    {
      "cell_type": "code",
      "source": [
        " A= torch.rand(3,4)\n",
        " B= torch.rand(3,4)\n",
        "\n",
        " A==B"
      ],
      "metadata": {
        "colab": {
          "base_uri": "https://localhost:8080/"
        },
        "id": "5n-qNx-W1Xn0",
        "outputId": "5a2e1f37-b245-4a9d-b13f-5146d1f2bdd8"
      },
      "id": "5n-qNx-W1Xn0",
      "execution_count": 86,
      "outputs": [
        {
          "output_type": "execute_result",
          "data": {
            "text/plain": [
              "tensor([[False, False, False, False],\n",
              "        [False, False, False, False],\n",
              "        [False, False, False, False]])"
            ]
          },
          "metadata": {},
          "execution_count": 86
        }
      ]
    },
    {
      "cell_type": "code",
      "source": [
        "# SET RANDOM SEED\n",
        "torch.manual_seed(42)\n",
        "C= torch.rand(3,3)\n",
        "torch.manual_seed(42)\n",
        "D=torch.rand(3,3)\n",
        "C==D"
      ],
      "metadata": {
        "colab": {
          "base_uri": "https://localhost:8080/"
        },
        "id": "iWSfS-2L3Ai6",
        "outputId": "18085b78-73e9-4df4-ba5b-8e84bc72d6c1"
      },
      "id": "iWSfS-2L3Ai6",
      "execution_count": 87,
      "outputs": [
        {
          "output_type": "execute_result",
          "data": {
            "text/plain": [
              "tensor([[True, True, True],\n",
              "        [True, True, True],\n",
              "        [True, True, True]])"
            ]
          },
          "metadata": {},
          "execution_count": 87
        }
      ]
    },
    {
      "cell_type": "markdown",
      "source": [
        " GPU= `CUDA` + NIVIDA hardware +pytorch -> to make the operations faster"
      ],
      "metadata": {
        "id": "xkzsozbX5TBw"
      },
      "id": "xkzsozbX5TBw"
    },
    {
      "cell_type": "code",
      "source": [
        "!nvidia-smi"
      ],
      "metadata": {
        "colab": {
          "base_uri": "https://localhost:8080/"
        },
        "id": "6qRfKq114GTt",
        "outputId": "3184f4b4-6135-4c6c-f610-780794ef4a9c"
      },
      "id": "6qRfKq114GTt",
      "execution_count": 88,
      "outputs": [
        {
          "output_type": "stream",
          "name": "stdout",
          "text": [
            "/bin/bash: line 1: nvidia-smi: command not found\n"
          ]
        }
      ]
    },
    {
      "cell_type": "code",
      "source": [
        "torch.cuda.is_available()"
      ],
      "metadata": {
        "colab": {
          "base_uri": "https://localhost:8080/"
        },
        "id": "sJAMdrpJ62a9",
        "outputId": "96d703e0-4816-4f67-af85-641a9ad477d2"
      },
      "id": "sJAMdrpJ62a9",
      "execution_count": 89,
      "outputs": [
        {
          "output_type": "execute_result",
          "data": {
            "text/plain": [
              "False"
            ]
          },
          "metadata": {},
          "execution_count": 89
        }
      ]
    },
    {
      "cell_type": "code",
      "source": [
        "device = \"cuda\" if torch.cuda.is_available() else 'cpu'"
      ],
      "metadata": {
        "id": "SJPdBX8a7pDF"
      },
      "id": "SJPdBX8a7pDF",
      "execution_count": 90,
      "outputs": []
    },
    {
      "cell_type": "markdown",
      "source": [
        "## Excercise"
      ],
      "metadata": {
        "id": "43e8YDcRaRpq"
      },
      "id": "43e8YDcRaRpq"
    },
    {
      "cell_type": "code",
      "source": [
        "#2 Create a random tensor with shape (7, 7).\n",
        "\n",
        "tensor1= torch.rand((7,7))\n",
        "tensor1\n",
        "print(tensor1.shape)"
      ],
      "metadata": {
        "id": "8c1Jo34C71Z3",
        "outputId": "6dad4a5b-ad78-4ad9-ce90-fd9f9544b416",
        "colab": {
          "base_uri": "https://localhost:8080/"
        }
      },
      "id": "8c1Jo34C71Z3",
      "execution_count": 91,
      "outputs": [
        {
          "output_type": "stream",
          "name": "stdout",
          "text": [
            "torch.Size([7, 7])\n"
          ]
        }
      ]
    },
    {
      "cell_type": "code",
      "source": [
        "#3 Perform a matrix multiplication on the tensor from 2 with another random tensor with shape (1, 7) (hint: you may have to transpose the second tensor).\n",
        "\n",
        "tensor2= torch.rand((7,1))\n",
        "print(tensor2.shape)\n",
        "print(tensor1.shape)\n",
        "torch.mm(tensor1,tensor2)"
      ],
      "metadata": {
        "id": "NaiwStmkduR1",
        "outputId": "8f8e7e0f-a436-4e3c-8511-7e76d0082aa3",
        "colab": {
          "base_uri": "https://localhost:8080/"
        }
      },
      "id": "NaiwStmkduR1",
      "execution_count": 92,
      "outputs": [
        {
          "output_type": "stream",
          "name": "stdout",
          "text": [
            "torch.Size([7, 1])\n",
            "torch.Size([7, 7])\n"
          ]
        },
        {
          "output_type": "execute_result",
          "data": {
            "text/plain": [
              "tensor([[1.6023],\n",
              "        [1.6286],\n",
              "        [1.2705],\n",
              "        [2.2861],\n",
              "        [2.2581],\n",
              "        [1.8172],\n",
              "        [1.8756]])"
            ]
          },
          "metadata": {},
          "execution_count": 92
        }
      ]
    },
    {
      "cell_type": "code",
      "source": [
        "#4 Set the random seed to 0 and do exercises 2 & 3 over again.\n",
        "random_seed =0\n",
        "torch.manual_seed(random_seed)"
      ],
      "metadata": {
        "id": "4zp5x3jkeGvj",
        "outputId": "82d38371-e6b5-4375-b352-8ea5fa9c4a10",
        "colab": {
          "base_uri": "https://localhost:8080/"
        }
      },
      "id": "4zp5x3jkeGvj",
      "execution_count": 93,
      "outputs": [
        {
          "output_type": "execute_result",
          "data": {
            "text/plain": [
              "<torch._C.Generator at 0x78fe1af9ddf0>"
            ]
          },
          "metadata": {},
          "execution_count": 93
        }
      ]
    },
    {
      "cell_type": "code",
      "source": [
        "torch.manual_seed(random_seed)\n",
        "tensor1= torch.rand((7,7))\n",
        "torch.manual_seed(random_seed)\n",
        "tensor2= torch.rand((7,1))\n",
        "torch.mm(tensor1,tensor2)"
      ],
      "metadata": {
        "id": "r9yfW8GZeP7g",
        "outputId": "140964c1-e190-4620-8d5b-f283eb55efa0",
        "colab": {
          "base_uri": "https://localhost:8080/"
        }
      },
      "id": "r9yfW8GZeP7g",
      "execution_count": 94,
      "outputs": [
        {
          "output_type": "execute_result",
          "data": {
            "text/plain": [
              "tensor([[1.5985],\n",
              "        [1.1173],\n",
              "        [1.2741],\n",
              "        [1.6838],\n",
              "        [0.8279],\n",
              "        [1.0347],\n",
              "        [1.2498]])"
            ]
          },
          "metadata": {},
          "execution_count": 94
        }
      ]
    },
    {
      "cell_type": "code",
      "source": [
        "#6 Set torch.manual_seed(1234) when creating the tensors (this doesn't have to be the GPU random seed).\n",
        "random_seed=1234\n",
        "torch.manual_seed(random_seed)\n",
        "tensor3= torch.rand((2,3))"
      ],
      "metadata": {
        "id": "akRPGzUHeai-"
      },
      "id": "akRPGzUHeai-",
      "execution_count": 95,
      "outputs": []
    },
    {
      "cell_type": "code",
      "source": [
        "tensor3"
      ],
      "metadata": {
        "id": "8Z5Eh5XaesKp",
        "outputId": "05c9c66f-5b85-4caf-c008-cdb8616e8df5",
        "colab": {
          "base_uri": "https://localhost:8080/"
        }
      },
      "id": "8Z5Eh5XaesKp",
      "execution_count": 96,
      "outputs": [
        {
          "output_type": "execute_result",
          "data": {
            "text/plain": [
              "tensor([[0.0290, 0.4019, 0.2598],\n",
              "        [0.3666, 0.0583, 0.7006]])"
            ]
          },
          "metadata": {},
          "execution_count": 96
        }
      ]
    },
    {
      "cell_type": "code",
      "source": [
        "#7\n",
        "torch.manual_seed(random_seed)\n",
        "tensor4= torch.rand((3,2))\n",
        "mul =torch.matmul(tensor3,tensor4)\n",
        "mul"
      ],
      "metadata": {
        "id": "knT3JJLXetIM",
        "outputId": "69344ff0-983b-45c5-9da7-754e831f9d25",
        "colab": {
          "base_uri": "https://localhost:8080/"
        }
      },
      "id": "knT3JJLXetIM",
      "execution_count": 97,
      "outputs": [
        {
          "output_type": "execute_result",
          "data": {
            "text/plain": [
              "tensor([[0.1204, 0.3411],\n",
              "        [0.0666, 0.6596]])"
            ]
          },
          "metadata": {},
          "execution_count": 97
        }
      ]
    },
    {
      "cell_type": "code",
      "source": [
        "# 8\n",
        "mul.max(),mul.min()"
      ],
      "metadata": {
        "id": "fLML8kjMfCvu",
        "outputId": "129df40b-1560-413a-ab26-8ff28865a15b",
        "colab": {
          "base_uri": "https://localhost:8080/"
        }
      },
      "id": "fLML8kjMfCvu",
      "execution_count": 98,
      "outputs": [
        {
          "output_type": "execute_result",
          "data": {
            "text/plain": [
              "(tensor(0.6596), tensor(0.0666))"
            ]
          },
          "metadata": {},
          "execution_count": 98
        }
      ]
    },
    {
      "cell_type": "code",
      "source": [
        "#9\n",
        "mul.argmax(),mul.argmin()"
      ],
      "metadata": {
        "id": "HaY9_fNffLXO",
        "outputId": "ab8007df-67ef-4a70-9ca6-9cc4217e1c0d",
        "colab": {
          "base_uri": "https://localhost:8080/"
        }
      },
      "id": "HaY9_fNffLXO",
      "execution_count": 99,
      "outputs": [
        {
          "output_type": "execute_result",
          "data": {
            "text/plain": [
              "(tensor(3), tensor(2))"
            ]
          },
          "metadata": {},
          "execution_count": 99
        }
      ]
    },
    {
      "cell_type": "code",
      "source": [
        "''' 10)\n",
        "Make a random tensor with shape (1, 1, 1, 10) and then create a new tensor with all the 1 dimensions removed to be left with a tensor of shape (10). Set the seed to 7 when you create it and print out the first tensor and it's shape as well as the second tensor and it's shape.\n",
        "'''"
      ],
      "metadata": {
        "id": "JVBOBBt1fT0T",
        "outputId": "1568bff2-929f-4e91-ca06-074b901e3d2c",
        "colab": {
          "base_uri": "https://localhost:8080/",
          "height": 53
        }
      },
      "id": "JVBOBBt1fT0T",
      "execution_count": 100,
      "outputs": [
        {
          "output_type": "execute_result",
          "data": {
            "text/plain": [
              "\" 10)\\nMake a random tensor with shape (1, 1, 1, 10) and then create a new tensor with all the 1 dimensions removed to be left with a tensor of shape (10). Set the seed to 7 when you create it and print out the first tensor and it's shape as well as the second tensor and it's shape.\\n\""
            ],
            "application/vnd.google.colaboratory.intrinsic+json": {
              "type": "string"
            }
          },
          "metadata": {},
          "execution_count": 100
        }
      ]
    },
    {
      "cell_type": "code",
      "source": [
        "random_seed=7\n",
        "torch.manual_seed(random_seed)\n",
        "tensor5 = torch.rand((1,1,1,10))\n",
        "tensor5,tensor5.shape"
      ],
      "metadata": {
        "id": "TiKvc3BzfaYP",
        "outputId": "31a37cd3-0e67-4a7c-c8da-ae6fd4a39819",
        "colab": {
          "base_uri": "https://localhost:8080/"
        }
      },
      "id": "TiKvc3BzfaYP",
      "execution_count": 101,
      "outputs": [
        {
          "output_type": "execute_result",
          "data": {
            "text/plain": [
              "(tensor([[[[0.5349, 0.1988, 0.6592, 0.6569, 0.2328, 0.4251, 0.2071, 0.6297,\n",
              "            0.3653, 0.8513]]]]),\n",
              " torch.Size([1, 1, 1, 10]))"
            ]
          },
          "metadata": {},
          "execution_count": 101
        }
      ]
    },
    {
      "cell_type": "code",
      "source": [
        "torch.manual_seed(random_seed)\n",
        "tensor6 = torch.squeeze(tensor5)\n",
        "tensor6,tensor6.shape"
      ],
      "metadata": {
        "id": "Inqkm7FTfhZm",
        "outputId": "893f0ab4-d05a-4deb-ad1b-ad3e894b7c19",
        "colab": {
          "base_uri": "https://localhost:8080/"
        }
      },
      "id": "Inqkm7FTfhZm",
      "execution_count": 102,
      "outputs": [
        {
          "output_type": "execute_result",
          "data": {
            "text/plain": [
              "(tensor([0.5349, 0.1988, 0.6592, 0.6569, 0.2328, 0.4251, 0.2071, 0.6297, 0.3653,\n",
              "         0.8513]),\n",
              " torch.Size([10]))"
            ]
          },
          "metadata": {},
          "execution_count": 102
        }
      ]
    }
  ],
  "metadata": {
    "jupytext": {
      "cell_metadata_filter": "-all",
      "main_language": "python",
      "notebook_metadata_filter": "-all"
    },
    "colab": {
      "provenance": [],
      "gpuType": "T4"
    },
    "language_info": {
      "name": "python"
    },
    "kernelspec": {
      "name": "python3",
      "display_name": "Python 3"
    },
    "accelerator": "GPU"
  },
  "nbformat": 4,
  "nbformat_minor": 5
}