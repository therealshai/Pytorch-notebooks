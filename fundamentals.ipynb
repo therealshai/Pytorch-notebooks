{
  "cells": [
    {
      "cell_type": "code",
      "execution_count": 1,
      "id": "f5f06ba1",
      "metadata": {
        "id": "f5f06ba1"
      },
      "outputs": [],
      "source": [
        "import torch"
      ]
    },
    {
      "cell_type": "code",
      "execution_count": 3,
      "id": "3b2adf0b",
      "metadata": {
        "id": "3b2adf0b",
        "outputId": "5e953522-7788-4ae5-eb0e-9e329f7115e6",
        "colab": {
          "base_uri": "https://localhost:8080/"
        }
      },
      "outputs": [
        {
          "output_type": "stream",
          "name": "stdout",
          "text": [
            "2.6.0+cu124\n"
          ]
        }
      ],
      "source": [
        "print(torch.__version__)"
      ]
    },
    {
      "cell_type": "code",
      "source": [],
      "metadata": {
        "id": "awOImlCabLdY"
      },
      "id": "awOImlCabLdY",
      "execution_count": null,
      "outputs": []
    },
    {
      "cell_type": "code",
      "source": [],
      "metadata": {
        "id": "iB7PY4Z2bL3I"
      },
      "id": "iB7PY4Z2bL3I",
      "execution_count": null,
      "outputs": []
    },
    {
      "cell_type": "code",
      "source": [],
      "metadata": {
        "id": "g9M7FOHLbL5X"
      },
      "id": "g9M7FOHLbL5X",
      "execution_count": null,
      "outputs": []
    },
    {
      "cell_type": "code",
      "source": [],
      "metadata": {
        "id": "UC9j93szbL83"
      },
      "id": "UC9j93szbL83",
      "execution_count": null,
      "outputs": []
    }
  ],
  "metadata": {
    "jupytext": {
      "cell_metadata_filter": "-all",
      "main_language": "python",
      "notebook_metadata_filter": "-all"
    },
    "colab": {
      "provenance": []
    },
    "language_info": {
      "name": "python"
    },
    "kernelspec": {
      "name": "python3",
      "display_name": "Python 3"
    }
  },
  "nbformat": 4,
  "nbformat_minor": 5
}